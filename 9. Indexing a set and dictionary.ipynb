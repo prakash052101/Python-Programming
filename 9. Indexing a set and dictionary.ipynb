{
 "cells": [
  {
   "cell_type": "code",
   "execution_count": 1,
   "id": "aafed293",
   "metadata": {},
   "outputs": [
    {
     "name": "stdout",
     "output_type": "stream",
     "text": [
      "{'Maggie', 'Milk Maid', 'Milo', 'Kit kat'}\n"
     ]
    }
   ],
   "source": [
    "# indexing a set\n",
    "Grocery_Products = {'Milo', 'Maggie', 'Kit kat', 'Milk Maid'}\n",
    "print(Grocery_Products)"
   ]
  },
  {
   "cell_type": "code",
   "execution_count": 2,
   "id": "a4729668",
   "metadata": {},
   "outputs": [
    {
     "ename": "TypeError",
     "evalue": "'set' object is not subscriptable",
     "output_type": "error",
     "traceback": [
      "\u001b[1;31m---------------------------------------------------------------------------\u001b[0m",
      "\u001b[1;31mTypeError\u001b[0m                                 Traceback (most recent call last)",
      "Input \u001b[1;32mIn [2]\u001b[0m, in \u001b[0;36m<cell line: 2>\u001b[1;34m()\u001b[0m\n\u001b[0;32m      1\u001b[0m \u001b[38;5;66;03m# set cannot be indexed\u001b[39;00m\n\u001b[1;32m----> 2\u001b[0m \u001b[43mGrocery_Products\u001b[49m\u001b[43m[\u001b[49m\u001b[38;5;241;43m0\u001b[39;49m\u001b[43m]\u001b[49m\n",
      "\u001b[1;31mTypeError\u001b[0m: 'set' object is not subscriptable"
     ]
    }
   ],
   "source": [
    "# set cannot be indexed\n",
    "Grocery_Products[0]"
   ]
  },
  {
   "cell_type": "code",
   "execution_count": 3,
   "id": "89ac512e",
   "metadata": {},
   "outputs": [
    {
     "data": {
      "text/plain": [
       "'Maggie'"
      ]
     },
     "execution_count": 3,
     "metadata": {},
     "output_type": "execute_result"
    }
   ],
   "source": [
    "list(Grocery_Products)[0]"
   ]
  },
  {
   "cell_type": "code",
   "execution_count": 5,
   "id": "137c0b06",
   "metadata": {},
   "outputs": [
    {
     "data": {
      "text/plain": [
       "{'Maggie', 'Milk Maid', 'Milo'}"
      ]
     },
     "execution_count": 5,
     "metadata": {},
     "output_type": "execute_result"
    }
   ],
   "source": [
    "set(list(Grocery_Products)[0:3])"
   ]
  },
  {
   "cell_type": "code",
   "execution_count": 7,
   "id": "45654c6c",
   "metadata": {},
   "outputs": [
    {
     "data": {
      "text/plain": [
       "{'Steve': 'StWhite@abc.com', 'kim': 'kim_anderson@org.com', 'ids': [101, 102]}"
      ]
     },
     "execution_count": 7,
     "metadata": {},
     "output_type": "execute_result"
    }
   ],
   "source": [
    "# indexing a dictionary\n",
    "first_dict = {'Steve':\"StWhite@abc.com\", 'kim':\"kim_anderson@org.com\", 'ids':[101, 102]}\n",
    "first_dict"
   ]
  },
  {
   "cell_type": "code",
   "execution_count": 8,
   "id": "0ca76cc4",
   "metadata": {},
   "outputs": [
    {
     "ename": "KeyError",
     "evalue": "0",
     "output_type": "error",
     "traceback": [
      "\u001b[1;31m---------------------------------------------------------------------------\u001b[0m",
      "\u001b[1;31mKeyError\u001b[0m                                  Traceback (most recent call last)",
      "Input \u001b[1;32mIn [8]\u001b[0m, in \u001b[0;36m<cell line: 1>\u001b[1;34m()\u001b[0m\n\u001b[1;32m----> 1\u001b[0m \u001b[43mfirst_dict\u001b[49m\u001b[43m[\u001b[49m\u001b[38;5;241;43m0\u001b[39;49m\u001b[43m]\u001b[49m\n",
      "\u001b[1;31mKeyError\u001b[0m: 0"
     ]
    }
   ],
   "source": [
    "first_dict[0]"
   ]
  },
  {
   "cell_type": "code",
   "execution_count": 9,
   "id": "fbfdc0a2",
   "metadata": {},
   "outputs": [
    {
     "data": {
      "text/plain": [
       "'StWhite@abc.com'"
      ]
     },
     "execution_count": 9,
     "metadata": {},
     "output_type": "execute_result"
    }
   ],
   "source": [
    "first_dict['Steve']"
   ]
  },
  {
   "cell_type": "code",
   "execution_count": 10,
   "id": "01236fae",
   "metadata": {},
   "outputs": [
    {
     "data": {
      "text/plain": [
       "dict_values(['StWhite@abc.com', 'kim_anderson@org.com', [101, 102]])"
      ]
     },
     "execution_count": 10,
     "metadata": {},
     "output_type": "execute_result"
    }
   ],
   "source": [
    "first_dict.values()"
   ]
  },
  {
   "cell_type": "code",
   "execution_count": 11,
   "id": "0e818fdd",
   "metadata": {},
   "outputs": [
    {
     "data": {
      "text/plain": [
       "dict_keys(['Steve', 'kim', 'ids'])"
      ]
     },
     "execution_count": 11,
     "metadata": {},
     "output_type": "execute_result"
    }
   ],
   "source": [
    "first_dict.keys()"
   ]
  }
 ],
 "metadata": {
  "kernelspec": {
   "display_name": "Python 3 (ipykernel)",
   "language": "python",
   "name": "python3"
  },
  "language_info": {
   "codemirror_mode": {
    "name": "ipython",
    "version": 3
   },
   "file_extension": ".py",
   "mimetype": "text/x-python",
   "name": "python",
   "nbconvert_exporter": "python",
   "pygments_lexer": "ipython3",
   "version": "3.9.12"
  }
 },
 "nbformat": 4,
 "nbformat_minor": 5
}
