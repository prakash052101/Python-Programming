{
 "cells": [
  {
   "cell_type": "code",
   "execution_count": 2,
   "id": "81779949",
   "metadata": {},
   "outputs": [
    {
     "name": "stdout",
     "output_type": "stream",
     "text": [
      "minor\n"
     ]
    }
   ],
   "source": [
    "# if - else condition\n",
    "age = 16\n",
    "if age < 18:\n",
    "    print('Minor')\n",
    "else:\n",
    "    print('Adult')"
   ]
  },
  {
   "cell_type": "code",
   "execution_count": 3,
   "id": "df6472d9",
   "metadata": {},
   "outputs": [
    {
     "name": "stdout",
     "output_type": "stream",
     "text": [
      "Adult\n"
     ]
    }
   ],
   "source": [
    "age = 18\n",
    "if age < 18:\n",
    "    print('Minor')\n",
    "else:\n",
    "    print('Adult')"
   ]
  },
  {
   "cell_type": "code",
   "execution_count": 4,
   "id": "bca99d1d",
   "metadata": {},
   "outputs": [],
   "source": [
    "# if - elif - else condition"
   ]
  },
  {
   "cell_type": "code",
   "execution_count": 7,
   "id": "5b2a7bdb",
   "metadata": {},
   "outputs": [
    {
     "name": "stdout",
     "output_type": "stream",
     "text": [
      "Grade B\n"
     ]
    }
   ],
   "source": [
    "marks = 81\n",
    "if marks > 90:\n",
    "    print('Grade A')\n",
    "elif 80<=marks<=90:\n",
    "    print('Grade B')\n",
    "else:\n",
    "    print('Grade C')"
   ]
  },
  {
   "cell_type": "code",
   "execution_count": 8,
   "id": "f18c47ec",
   "metadata": {},
   "outputs": [
    {
     "name": "stdout",
     "output_type": "stream",
     "text": [
      "Grade A\n"
     ]
    }
   ],
   "source": [
    "marks = 91\n",
    "if marks > 90:\n",
    "    print('Grade A')\n",
    "elif 80<=marks<=90:\n",
    "    print('Grade B')\n",
    "else:\n",
    "    print('Grade C')"
   ]
  },
  {
   "cell_type": "code",
   "execution_count": 9,
   "id": "15cf7a36",
   "metadata": {},
   "outputs": [
    {
     "name": "stdout",
     "output_type": "stream",
     "text": [
      "Grade C\n"
     ]
    }
   ],
   "source": [
    "marks = 70\n",
    "if marks > 90:\n",
    "    print('Grade A')\n",
    "elif 80<=marks<=90:\n",
    "    print('Grade B')\n",
    "else:\n",
    "    print('Grade C')"
   ]
  },
  {
   "cell_type": "code",
   "execution_count": null,
   "id": "b5b55b63",
   "metadata": {},
   "outputs": [],
   "source": [
    "# Nesting if - else condition"
   ]
  },
  {
   "cell_type": "code",
   "execution_count": 10,
   "id": "1f0adee4",
   "metadata": {},
   "outputs": [
    {
     "data": {
      "text/plain": [
       "(1, 2, 3)"
      ]
     },
     "execution_count": 10,
     "metadata": {},
     "output_type": "execute_result"
    }
   ],
   "source": [
    "tuple(list({1, 2, 3}))"
   ]
  },
  {
   "cell_type": "code",
   "execution_count": 11,
   "id": "f4e24cd5",
   "metadata": {},
   "outputs": [
    {
     "name": "stdout",
     "output_type": "stream",
     "text": [
      "Adult\n"
     ]
    }
   ],
   "source": [
    "#nested condition\n",
    "Age = 50\n",
    "IQ = \"Moderate Intelligent\"\n",
    "if Age < 18:\n",
    "    if IQ == \"Intelligent\":\n",
    "        print(\"Minor & Intellignt\")\n",
    "    else:\n",
    "        print(\"Minor & Normal\")\n",
    "else:\n",
    "    print('Adult')"
   ]
  },
  {
   "cell_type": "code",
   "execution_count": 12,
   "id": "33360bbb",
   "metadata": {},
   "outputs": [
    {
     "name": "stdout",
     "output_type": "stream",
     "text": [
      "Minor & Normal\n"
     ]
    }
   ],
   "source": [
    "Age = 10\n",
    "IQ = \"Moderate Intelligent\"\n",
    "if Age < 18:\n",
    "    if IQ == \"Intelligent\":\n",
    "        print(\"Minor & Intellignt\")\n",
    "    else:\n",
    "        print(\"Minor & Normal\")\n",
    "else:\n",
    "    print('Adult')"
   ]
  },
  {
   "cell_type": "code",
   "execution_count": 13,
   "id": "4791ecd8",
   "metadata": {},
   "outputs": [
    {
     "name": "stdout",
     "output_type": "stream",
     "text": [
      "Minor & Intellignt\n"
     ]
    }
   ],
   "source": [
    "Age = 10\n",
    "IQ = \"Intelligent\"\n",
    "if Age < 18:\n",
    "    if IQ == \"Intelligent\":\n",
    "        print(\"Minor & Intellignt\")\n",
    "    else:\n",
    "        print(\"Minor & Normal\")\n",
    "else:\n",
    "    print('Adult')"
   ]
  }
 ],
 "metadata": {
  "kernelspec": {
   "display_name": "Python 3 (ipykernel)",
   "language": "python",
   "name": "python3"
  },
  "language_info": {
   "codemirror_mode": {
    "name": "ipython",
    "version": 3
   },
   "file_extension": ".py",
   "mimetype": "text/x-python",
   "name": "python",
   "nbconvert_exporter": "python",
   "pygments_lexer": "ipython3",
   "version": "3.9.12"
  }
 },
 "nbformat": 4,
 "nbformat_minor": 5
}
