{
 "cells": [
  {
   "cell_type": "code",
   "execution_count": 1,
   "id": "349f1763",
   "metadata": {},
   "outputs": [
    {
     "data": {
      "text/plain": [
       "2"
      ]
     },
     "execution_count": 1,
     "metadata": {},
     "output_type": "execute_result"
    }
   ],
   "source": [
    "##########Single Element Object##########\n",
    "x = 1\n",
    "y = 2\n",
    "x\n",
    "y"
   ]
  },
  {
   "cell_type": "code",
   "execution_count": 2,
   "id": "8d4299e9",
   "metadata": {},
   "outputs": [
    {
     "name": "stdout",
     "output_type": "stream",
     "text": [
      "1\n",
      "2\n"
     ]
    }
   ],
   "source": [
    "print(x)\n",
    "print(y)"
   ]
  },
  {
   "cell_type": "code",
   "execution_count": 3,
   "id": "d884d79f",
   "metadata": {},
   "outputs": [
    {
     "name": "stdout",
     "output_type": "stream",
     "text": [
      "1\n"
     ]
    }
   ],
   "source": [
    "z = x\n",
    "print(z)"
   ]
  },
  {
   "cell_type": "code",
   "execution_count": 4,
   "id": "4569d575",
   "metadata": {},
   "outputs": [
    {
     "data": {
      "text/plain": [
       "int"
      ]
     },
     "execution_count": 4,
     "metadata": {},
     "output_type": "execute_result"
    }
   ],
   "source": [
    "type(z)"
   ]
  },
  {
   "cell_type": "code",
   "execution_count": 5,
   "id": "770a24ed",
   "metadata": {},
   "outputs": [
    {
     "name": "stdout",
     "output_type": "stream",
     "text": [
      "<class 'float'>\n",
      "3.3333333333333335\n",
      "2\n"
     ]
    }
   ],
   "source": [
    "# 2. Real Number\n",
    "x = 10/3\n",
    "print(type(x))\n",
    "print(x)\n",
    "print(y)"
   ]
  },
  {
   "cell_type": "code",
   "execution_count": 6,
   "id": "3d4242ea",
   "metadata": {},
   "outputs": [
    {
     "name": "stdout",
     "output_type": "stream",
     "text": [
      "first string\n"
     ]
    }
   ],
   "source": [
    "# Character/String. With single or double quotes- single Data type\n",
    "String_one = 'first string'\n",
    "print(String_one)"
   ]
  },
  {
   "cell_type": "code",
   "execution_count": 7,
   "id": "da19265f",
   "metadata": {},
   "outputs": [
    {
     "name": "stdout",
     "output_type": "stream",
     "text": [
      "second string\n"
     ]
    }
   ],
   "source": [
    "String_two = \"second string\"\n",
    "print(String_two)"
   ]
  },
  {
   "cell_type": "code",
   "execution_count": 8,
   "id": "833cb320",
   "metadata": {},
   "outputs": [
    {
     "name": "stdout",
     "output_type": "stream",
     "text": [
      "\n"
     ]
    }
   ],
   "source": [
    "String_three = \"\"\"third string\"\"\"\n",
    "print()"
   ]
  },
  {
   "cell_type": "code",
   "execution_count": 9,
   "id": "48a664ff",
   "metadata": {},
   "outputs": [
    {
     "name": "stdout",
     "output_type": "stream",
     "text": [
      "third string\n"
     ]
    }
   ],
   "source": [
    "print(String_three)"
   ]
  },
  {
   "cell_type": "code",
   "execution_count": 10,
   "id": "8399a8e8",
   "metadata": {},
   "outputs": [
    {
     "data": {
      "text/plain": [
       "str"
      ]
     },
     "execution_count": 10,
     "metadata": {},
     "output_type": "execute_result"
    }
   ],
   "source": [
    "type(String_three)"
   ]
  },
  {
   "cell_type": "code",
   "execution_count": 12,
   "id": "f51abe9b",
   "metadata": {},
   "outputs": [
    {
     "name": "stdout",
     "output_type": "stream",
     "text": [
      "Steve said \"I will join John's Team\". Post that the conversation ended \n"
     ]
    }
   ],
   "source": [
    "Statement = \"\"\"Steve said \"I will join John's Team\". Post that the conversation ended \"\"\"\n",
    "print(Statement)"
   ]
  },
  {
   "cell_type": "code",
   "execution_count": 15,
   "id": "9ac21625",
   "metadata": {},
   "outputs": [
    {
     "data": {
      "text/plain": [
       "True"
      ]
     },
     "execution_count": 15,
     "metadata": {},
     "output_type": "execute_result"
    }
   ],
   "source": [
    "# 4.Boolean\n",
    "bool_value1 = True\n",
    "bool_value1"
   ]
  },
  {
   "cell_type": "code",
   "execution_count": 16,
   "id": "80908f87",
   "metadata": {},
   "outputs": [
    {
     "data": {
      "text/plain": [
       "False"
      ]
     },
     "execution_count": 16,
     "metadata": {},
     "output_type": "execute_result"
    }
   ],
   "source": [
    "bool_value2 = False\n",
    "bool_value2"
   ]
  },
  {
   "cell_type": "code",
   "execution_count": 17,
   "id": "c8fedd7b",
   "metadata": {},
   "outputs": [
    {
     "data": {
      "text/plain": [
       "bool"
      ]
     },
     "execution_count": 17,
     "metadata": {},
     "output_type": "execute_result"
    }
   ],
   "source": [
    "type(bool_value1)"
   ]
  },
  {
   "cell_type": "code",
   "execution_count": null,
   "id": "6337f38d",
   "metadata": {},
   "outputs": [],
   "source": []
  }
 ],
 "metadata": {
  "kernelspec": {
   "display_name": "Python 3 (ipykernel)",
   "language": "python",
   "name": "python3"
  },
  "language_info": {
   "codemirror_mode": {
    "name": "ipython",
    "version": 3
   },
   "file_extension": ".py",
   "mimetype": "text/x-python",
   "name": "python",
   "nbconvert_exporter": "python",
   "pygments_lexer": "ipython3",
   "version": "3.9.12"
  }
 },
 "nbformat": 4,
 "nbformat_minor": 5
}
