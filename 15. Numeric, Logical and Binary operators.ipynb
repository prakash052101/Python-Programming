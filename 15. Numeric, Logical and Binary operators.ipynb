{
 "cells": [
  {
   "cell_type": "code",
   "execution_count": 1,
   "id": "c4ec7c20",
   "metadata": {},
   "outputs": [],
   "source": [
    "# Numeic Operators\n",
    "# +, -, /, %, //, **"
   ]
  },
  {
   "cell_type": "code",
   "execution_count": 2,
   "id": "b6a4f143",
   "metadata": {},
   "outputs": [
    {
     "data": {
      "text/plain": [
       "42.74"
      ]
     },
     "execution_count": 2,
     "metadata": {},
     "output_type": "execute_result"
    }
   ],
   "source": [
    "# numeric Operators\n",
    "#addition\n",
    "a = 36.74\n",
    "b = 6\n",
    "add = a + b\n",
    "add"
   ]
  },
  {
   "cell_type": "code",
   "execution_count": 4,
   "id": "977410e7",
   "metadata": {},
   "outputs": [
    {
     "data": {
      "text/plain": [
       "30.740000000000002"
      ]
     },
     "execution_count": 4,
     "metadata": {},
     "output_type": "execute_result"
    }
   ],
   "source": [
    "#subtraction\n",
    "sub = a - b\n",
    "sub"
   ]
  },
  {
   "cell_type": "code",
   "execution_count": 5,
   "id": "54d30c6d",
   "metadata": {},
   "outputs": [
    {
     "data": {
      "text/plain": [
       "220.44"
      ]
     },
     "execution_count": 5,
     "metadata": {},
     "output_type": "execute_result"
    }
   ],
   "source": [
    "#multiplication\n",
    "mul = a * b\n",
    "mul"
   ]
  },
  {
   "cell_type": "code",
   "execution_count": 7,
   "id": "b3b12826",
   "metadata": {},
   "outputs": [
    {
     "data": {
      "text/plain": [
       "6.123333333333334"
      ]
     },
     "execution_count": 7,
     "metadata": {},
     "output_type": "execute_result"
    }
   ],
   "source": [
    "#division\n",
    "div = a / b\n",
    "div"
   ]
  },
  {
   "cell_type": "code",
   "execution_count": 8,
   "id": "f7333f6d",
   "metadata": {},
   "outputs": [
    {
     "data": {
      "text/plain": [
       "0.740000000000002"
      ]
     },
     "execution_count": 8,
     "metadata": {},
     "output_type": "execute_result"
    }
   ],
   "source": [
    "#modulus\n",
    "mod = a % b\n",
    "mod"
   ]
  },
  {
   "cell_type": "code",
   "execution_count": 9,
   "id": "54ad9e51",
   "metadata": {},
   "outputs": [
    {
     "data": {
      "text/plain": [
       "6.0"
      ]
     },
     "execution_count": 9,
     "metadata": {},
     "output_type": "execute_result"
    }
   ],
   "source": [
    "#integer division\n",
    "int_div = a // b\n",
    "int_div"
   ]
  },
  {
   "cell_type": "code",
   "execution_count": 10,
   "id": "29dbe031",
   "metadata": {},
   "outputs": [
    {
     "data": {
      "text/plain": [
       "2459432523.368005"
      ]
     },
     "execution_count": 10,
     "metadata": {},
     "output_type": "execute_result"
    }
   ],
   "source": [
    "#exponent operator\n",
    "Power_function = a ** b\n",
    "Power_function"
   ]
  },
  {
   "cell_type": "code",
   "execution_count": 11,
   "id": "6a57fd21",
   "metadata": {},
   "outputs": [],
   "source": [
    "#Binary Operators\n",
    "# &(and), |(or)"
   ]
  },
  {
   "cell_type": "code",
   "execution_count": 12,
   "id": "23b224f0",
   "metadata": {},
   "outputs": [
    {
     "data": {
      "text/plain": [
       "True"
      ]
     },
     "execution_count": 12,
     "metadata": {},
     "output_type": "execute_result"
    }
   ],
   "source": [
    "(2 > 1) & (4 > 2)"
   ]
  },
  {
   "cell_type": "code",
   "execution_count": 13,
   "id": "29d1e621",
   "metadata": {},
   "outputs": [
    {
     "data": {
      "text/plain": [
       "False"
      ]
     },
     "execution_count": 13,
     "metadata": {},
     "output_type": "execute_result"
    }
   ],
   "source": [
    "(2 >1 ) & (4 < 3)"
   ]
  },
  {
   "cell_type": "code",
   "execution_count": 14,
   "id": "54d75547",
   "metadata": {},
   "outputs": [
    {
     "data": {
      "text/plain": [
       "False"
      ]
     },
     "execution_count": 14,
     "metadata": {},
     "output_type": "execute_result"
    }
   ],
   "source": [
    "(2 > 1) & (4 < 3)"
   ]
  },
  {
   "cell_type": "code",
   "execution_count": 16,
   "id": "1aac3a75",
   "metadata": {},
   "outputs": [
    {
     "data": {
      "text/plain": [
       "False"
      ]
     },
     "execution_count": 16,
     "metadata": {},
     "output_type": "execute_result"
    }
   ],
   "source": [
    "(2 < 1) & (4 < 3)"
   ]
  },
  {
   "cell_type": "code",
   "execution_count": 17,
   "id": "11d7cbf2",
   "metadata": {},
   "outputs": [
    {
     "data": {
      "text/plain": [
       "True"
      ]
     },
     "execution_count": 17,
     "metadata": {},
     "output_type": "execute_result"
    }
   ],
   "source": [
    "(2 > 1) | (4 > 2)"
   ]
  },
  {
   "cell_type": "code",
   "execution_count": 18,
   "id": "5ffaed2e",
   "metadata": {},
   "outputs": [
    {
     "data": {
      "text/plain": [
       "True"
      ]
     },
     "execution_count": 18,
     "metadata": {},
     "output_type": "execute_result"
    }
   ],
   "source": [
    "(2 > 1) | (4 < 2)"
   ]
  },
  {
   "cell_type": "code",
   "execution_count": 19,
   "id": "d9502034",
   "metadata": {},
   "outputs": [
    {
     "data": {
      "text/plain": [
       "True"
      ]
     },
     "execution_count": 19,
     "metadata": {},
     "output_type": "execute_result"
    }
   ],
   "source": [
    "(2 < 1) | (4 > 2)"
   ]
  },
  {
   "cell_type": "code",
   "execution_count": 20,
   "id": "5bb539d6",
   "metadata": {},
   "outputs": [
    {
     "data": {
      "text/plain": [
       "False"
      ]
     },
     "execution_count": 20,
     "metadata": {},
     "output_type": "execute_result"
    }
   ],
   "source": [
    "(2 < 1) | (4 < 2)"
   ]
  }
 ],
 "metadata": {
  "kernelspec": {
   "display_name": "Python 3 (ipykernel)",
   "language": "python",
   "name": "python3"
  },
  "language_info": {
   "codemirror_mode": {
    "name": "ipython",
    "version": 3
   },
   "file_extension": ".py",
   "mimetype": "text/x-python",
   "name": "python",
   "nbconvert_exporter": "python",
   "pygments_lexer": "ipython3",
   "version": "3.9.12"
  }
 },
 "nbformat": 4,
 "nbformat_minor": 5
}
