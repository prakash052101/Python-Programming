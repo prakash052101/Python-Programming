{
 "cells": [
  {
   "cell_type": "code",
   "execution_count": 5,
   "id": "99e7ba27",
   "metadata": {},
   "outputs": [],
   "source": [
    "# for - loop"
   ]
  },
  {
   "cell_type": "code",
   "execution_count": 1,
   "id": "3bff161b",
   "metadata": {},
   "outputs": [
    {
     "data": {
      "text/plain": [
       "range(0, 10)"
      ]
     },
     "execution_count": 1,
     "metadata": {},
     "output_type": "execute_result"
    }
   ],
   "source": [
    "range(10)"
   ]
  },
  {
   "cell_type": "code",
   "execution_count": 4,
   "id": "79643b00",
   "metadata": {},
   "outputs": [
    {
     "data": {
      "text/plain": [
       "[0, 1, 2, 3, 4, 5, 6, 7, 8, 9]"
      ]
     },
     "execution_count": 4,
     "metadata": {},
     "output_type": "execute_result"
    }
   ],
   "source": [
    "list(range(10))"
   ]
  },
  {
   "cell_type": "code",
   "execution_count": 3,
   "id": "23aadd39",
   "metadata": {},
   "outputs": [
    {
     "name": "stdout",
     "output_type": "stream",
     "text": [
      "0\n",
      "1\n",
      "2\n",
      "3\n",
      "4\n",
      "5\n",
      "6\n",
      "7\n",
      "8\n",
      "9\n"
     ]
    }
   ],
   "source": [
    "# Example 1\n",
    "for i in (range(10)):\n",
    "    print(i)"
   ]
  },
  {
   "cell_type": "code",
   "execution_count": 6,
   "id": "4b7382a1",
   "metadata": {},
   "outputs": [
    {
     "name": "stdout",
     "output_type": "stream",
     "text": [
      "5\n",
      "6\n",
      "7\n",
      "8\n",
      "9\n",
      "10\n",
      "11\n",
      "12\n",
      "13\n",
      "14\n"
     ]
    }
   ],
   "source": [
    "# Example 2\n",
    "for i in (range(10)):\n",
    "    print(i + 5)"
   ]
  },
  {
   "cell_type": "code",
   "execution_count": 7,
   "id": "990efcdd",
   "metadata": {},
   "outputs": [
    {
     "name": "stdout",
     "output_type": "stream",
     "text": [
      "Milo\n",
      "NesCafe\n",
      "Boost\n",
      "Maggie\n"
     ]
    }
   ],
   "source": [
    "# Example 3\n",
    "Products = ['Milo', 'NesCafe', 'Boost', 'Maggie']\n",
    "for i in Products:\n",
    "    print(i)"
   ]
  },
  {
   "cell_type": "code",
   "execution_count": 8,
   "id": "f5e54a24",
   "metadata": {},
   "outputs": [
    {
     "name": "stdout",
     "output_type": "stream",
     "text": [
      "70\n",
      "83\n",
      "39\n",
      "61\n",
      "83\n",
      "99\n",
      "50\n",
      "81\n",
      "92\n",
      "57\n"
     ]
    }
   ],
   "source": [
    "# Example 4\n",
    "Math_marks = [65, 78, 34, 56, 78, 94, 45, 76, 87, 52]\n",
    "for Student in Math_marks:\n",
    "    print(Student + 5)"
   ]
  },
  {
   "cell_type": "code",
   "execution_count": 9,
   "id": "eeef3c32",
   "metadata": {},
   "outputs": [],
   "source": [
    "# While Loop"
   ]
  },
  {
   "cell_type": "code",
   "execution_count": 11,
   "id": "5e8f7585",
   "metadata": {},
   "outputs": [
    {
     "name": "stdout",
     "output_type": "stream",
     "text": [
      "2500\n",
      "3000\n",
      "3500\n",
      "4000\n",
      "4500\n",
      "5000\n",
      "5500\n",
      "6000\n",
      "6500\n",
      "7000\n",
      "7500\n",
      "8000\n",
      "8500\n",
      "9000\n",
      "9500\n",
      "10000\n"
     ]
    }
   ],
   "source": [
    "current_savings = 2000\n",
    "target_savings = 10000\n",
    "while(current_savings < target_savings):\n",
    "    current_savings = current_savings + 500\n",
    "    print(current_savings)"
   ]
  },
  {
   "cell_type": "code",
   "execution_count": null,
   "id": "0ea00b03",
   "metadata": {},
   "outputs": [],
   "source": []
  }
 ],
 "metadata": {
  "kernelspec": {
   "display_name": "Python 3 (ipykernel)",
   "language": "python",
   "name": "python3"
  },
  "language_info": {
   "codemirror_mode": {
    "name": "ipython",
    "version": 3
   },
   "file_extension": ".py",
   "mimetype": "text/x-python",
   "name": "python",
   "nbconvert_exporter": "python",
   "pygments_lexer": "ipython3",
   "version": "3.9.12"
  }
 },
 "nbformat": 4,
 "nbformat_minor": 5
}
