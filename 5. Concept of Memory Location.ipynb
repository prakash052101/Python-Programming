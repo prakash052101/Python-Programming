{
 "cells": [
  {
   "cell_type": "code",
   "execution_count": 1,
   "id": "47ded837",
   "metadata": {},
   "outputs": [
    {
     "data": {
      "text/plain": [
       "[1, 2, 3]"
      ]
     },
     "execution_count": 1,
     "metadata": {},
     "output_type": "execute_result"
    }
   ],
   "source": [
    "L1 = [1, 2, 3]\n",
    "L1"
   ]
  },
  {
   "cell_type": "code",
   "execution_count": 2,
   "id": "5834a288",
   "metadata": {},
   "outputs": [],
   "source": [
    "L2 = L1"
   ]
  },
  {
   "cell_type": "code",
   "execution_count": 3,
   "id": "4776ba90",
   "metadata": {},
   "outputs": [
    {
     "data": {
      "text/plain": [
       "[1, 2, 3]"
      ]
     },
     "execution_count": 3,
     "metadata": {},
     "output_type": "execute_result"
    }
   ],
   "source": [
    "L2"
   ]
  },
  {
   "cell_type": "code",
   "execution_count": 4,
   "id": "69bc78f3",
   "metadata": {},
   "outputs": [
    {
     "data": {
      "text/plain": [
       "2047472138944"
      ]
     },
     "execution_count": 4,
     "metadata": {},
     "output_type": "execute_result"
    }
   ],
   "source": [
    "id(L1)"
   ]
  },
  {
   "cell_type": "code",
   "execution_count": 5,
   "id": "98d37e5a",
   "metadata": {},
   "outputs": [
    {
     "data": {
      "text/plain": [
       "2047472138944"
      ]
     },
     "execution_count": 5,
     "metadata": {},
     "output_type": "execute_result"
    }
   ],
   "source": [
    "id(L2)"
   ]
  },
  {
   "cell_type": "code",
   "execution_count": 6,
   "id": "e112a706",
   "metadata": {},
   "outputs": [],
   "source": [
    "L1[2] = 40"
   ]
  },
  {
   "cell_type": "code",
   "execution_count": 7,
   "id": "d341c74b",
   "metadata": {},
   "outputs": [
    {
     "data": {
      "text/plain": [
       "[1, 2, 40]"
      ]
     },
     "execution_count": 7,
     "metadata": {},
     "output_type": "execute_result"
    }
   ],
   "source": [
    "L1"
   ]
  },
  {
   "cell_type": "code",
   "execution_count": 8,
   "id": "abc0fc18",
   "metadata": {},
   "outputs": [
    {
     "data": {
      "text/plain": [
       "[1, 2, 40]"
      ]
     },
     "execution_count": 8,
     "metadata": {},
     "output_type": "execute_result"
    }
   ],
   "source": [
    "L2"
   ]
  }
 ],
 "metadata": {
  "kernelspec": {
   "display_name": "Python 3 (ipykernel)",
   "language": "python",
   "name": "python3"
  },
  "language_info": {
   "codemirror_mode": {
    "name": "ipython",
    "version": 3
   },
   "file_extension": ".py",
   "mimetype": "text/x-python",
   "name": "python",
   "nbconvert_exporter": "python",
   "pygments_lexer": "ipython3",
   "version": "3.9.12"
  }
 },
 "nbformat": 4,
 "nbformat_minor": 5
}
