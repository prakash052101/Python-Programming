{
 "cells": [
  {
   "cell_type": "code",
   "execution_count": 1,
   "id": "3bff161b",
   "metadata": {},
   "outputs": [],
   "source": [
    "# 1. Pyhton System defined function\n",
    "# 2. Package specific function\n",
    "# 3. User defined function"
   ]
  },
  {
   "cell_type": "code",
   "execution_count": 2,
   "id": "ab71cfd9",
   "metadata": {},
   "outputs": [],
   "source": [
    "# Pyhthon system defined function"
   ]
  },
  {
   "cell_type": "code",
   "execution_count": 4,
   "id": "327b707e",
   "metadata": {},
   "outputs": [],
   "source": [
    "Marks_math = [56, 67, 78, 45]"
   ]
  },
  {
   "cell_type": "code",
   "execution_count": 5,
   "id": "4832d48b",
   "metadata": {},
   "outputs": [
    {
     "data": {
      "text/plain": [
       "246"
      ]
     },
     "execution_count": 5,
     "metadata": {},
     "output_type": "execute_result"
    }
   ],
   "source": [
    "sum(Marks_math)"
   ]
  },
  {
   "cell_type": "code",
   "execution_count": 6,
   "id": "4cb8e772",
   "metadata": {},
   "outputs": [
    {
     "data": {
      "text/plain": [
       "45"
      ]
     },
     "execution_count": 6,
     "metadata": {},
     "output_type": "execute_result"
    }
   ],
   "source": [
    "min(Marks_math)"
   ]
  },
  {
   "cell_type": "code",
   "execution_count": 7,
   "id": "4d6ceeab",
   "metadata": {},
   "outputs": [
    {
     "data": {
      "text/plain": [
       "78"
      ]
     },
     "execution_count": 7,
     "metadata": {},
     "output_type": "execute_result"
    }
   ],
   "source": [
    "max(Marks_math)"
   ]
  },
  {
   "cell_type": "code",
   "execution_count": 8,
   "id": "a9e5f09e",
   "metadata": {},
   "outputs": [],
   "source": [
    "# Package specific function"
   ]
  },
  {
   "cell_type": "code",
   "execution_count": 10,
   "id": "5d87f0c9",
   "metadata": {},
   "outputs": [],
   "source": [
    "import statistics as st"
   ]
  },
  {
   "cell_type": "code",
   "execution_count": 12,
   "id": "8d349910",
   "metadata": {},
   "outputs": [
    {
     "data": {
      "text/plain": [
       "61.5"
      ]
     },
     "execution_count": 12,
     "metadata": {},
     "output_type": "execute_result"
    }
   ],
   "source": [
    "st.mean(Marks_math)"
   ]
  },
  {
   "cell_type": "code",
   "execution_count": 13,
   "id": "c42d86e1",
   "metadata": {},
   "outputs": [
    {
     "data": {
      "text/plain": [
       "14.200938936093861"
      ]
     },
     "execution_count": 13,
     "metadata": {},
     "output_type": "execute_result"
    }
   ],
   "source": [
    "st.stdev(Marks_math)"
   ]
  },
  {
   "cell_type": "code",
   "execution_count": 14,
   "id": "91b9b1af",
   "metadata": {},
   "outputs": [
    {
     "data": {
      "text/plain": [
       "['Counter',\n",
       " 'Decimal',\n",
       " 'Fraction',\n",
       " 'NormalDist',\n",
       " 'StatisticsError',\n",
       " '__all__',\n",
       " '__builtins__',\n",
       " '__cached__',\n",
       " '__doc__',\n",
       " '__file__',\n",
       " '__loader__',\n",
       " '__name__',\n",
       " '__package__',\n",
       " '__spec__',\n",
       " '_coerce',\n",
       " '_convert',\n",
       " '_exact_ratio',\n",
       " '_fail_neg',\n",
       " '_find_lteq',\n",
       " '_find_rteq',\n",
       " '_isfinite',\n",
       " '_normal_dist_inv_cdf',\n",
       " '_ss',\n",
       " '_sum',\n",
       " 'bisect_left',\n",
       " 'bisect_right',\n",
       " 'erf',\n",
       " 'exp',\n",
       " 'fabs',\n",
       " 'fmean',\n",
       " 'fsum',\n",
       " 'geometric_mean',\n",
       " 'groupby',\n",
       " 'harmonic_mean',\n",
       " 'hypot',\n",
       " 'itemgetter',\n",
       " 'log',\n",
       " 'math',\n",
       " 'mean',\n",
       " 'median',\n",
       " 'median_grouped',\n",
       " 'median_high',\n",
       " 'median_low',\n",
       " 'mode',\n",
       " 'multimode',\n",
       " 'numbers',\n",
       " 'pstdev',\n",
       " 'pvariance',\n",
       " 'quantiles',\n",
       " 'random',\n",
       " 'sqrt',\n",
       " 'stdev',\n",
       " 'tau',\n",
       " 'variance']"
      ]
     },
     "execution_count": 14,
     "metadata": {},
     "output_type": "execute_result"
    }
   ],
   "source": [
    "dir(st)"
   ]
  },
  {
   "cell_type": "code",
   "execution_count": 15,
   "id": "c9f4edd1",
   "metadata": {},
   "outputs": [],
   "source": [
    "# USer defined function"
   ]
  },
  {
   "cell_type": "code",
   "execution_count": null,
   "id": "766bae04",
   "metadata": {},
   "outputs": [],
   "source": [
    "# a. non-parameterized user defined function"
   ]
  },
  {
   "cell_type": "code",
   "execution_count": 16,
   "id": "acebab88",
   "metadata": {},
   "outputs": [],
   "source": [
    "# step 1- Creating/Compiling a function\n",
    "def My_Function():\n",
    "    return \"Today's temp is 30 degree Celsius\""
   ]
  },
  {
   "cell_type": "code",
   "execution_count": 18,
   "id": "a21c1101",
   "metadata": {},
   "outputs": [
    {
     "data": {
      "text/plain": [
       "\"Today's temp is 30 degree Celsius\""
      ]
     },
     "execution_count": 18,
     "metadata": {},
     "output_type": "execute_result"
    }
   ],
   "source": [
    "# step 2- calling a function \n",
    "My_Function()"
   ]
  },
  {
   "cell_type": "code",
   "execution_count": null,
   "id": "1234d0a0",
   "metadata": {},
   "outputs": [],
   "source": [
    "# b. Parameterized user defined function"
   ]
  },
  {
   "cell_type": "code",
   "execution_count": 23,
   "id": "147addc3",
   "metadata": {},
   "outputs": [],
   "source": [
    "# step 1- Creating/Compiling a function\n",
    "def My_Function(ProvideDate):\n",
    "    return (\"Today's temp is 30 degree Celsius \" + ProvideDate)"
   ]
  },
  {
   "cell_type": "code",
   "execution_count": 24,
   "id": "2f9cc155",
   "metadata": {},
   "outputs": [
    {
     "data": {
      "text/plain": [
       "\"Today's temp is 30 degree Celsius September 15\""
      ]
     },
     "execution_count": 24,
     "metadata": {},
     "output_type": "execute_result"
    }
   ],
   "source": [
    "My_Function('September 15')"
   ]
  },
  {
   "cell_type": "code",
   "execution_count": 28,
   "id": "70267fb8",
   "metadata": {},
   "outputs": [],
   "source": [
    "# Example\n",
    "def cust_affluence_calculation(income_monthly, remaining_working_years, assets):\n",
    "    return (remaining_working_years*income_monthly*12*0.70) + assets"
   ]
  },
  {
   "cell_type": "code",
   "execution_count": 29,
   "id": "5f0b2631",
   "metadata": {},
   "outputs": [
    {
     "data": {
      "text/plain": [
       "94000.0"
      ]
     },
     "execution_count": 29,
     "metadata": {},
     "output_type": "execute_result"
    }
   ],
   "source": [
    "cust_affluence_calculation(2000, 5, 10000)"
   ]
  },
  {
   "cell_type": "code",
   "execution_count": 31,
   "id": "c450aa06",
   "metadata": {},
   "outputs": [
    {
     "data": {
      "text/plain": [
       "94000.0"
      ]
     },
     "execution_count": 31,
     "metadata": {},
     "output_type": "execute_result"
    }
   ],
   "source": [
    "cust_affluence_calculation(income_monthly=2000,remaining_working_years=5, assets=10000)"
   ]
  },
  {
   "cell_type": "code",
   "execution_count": 32,
   "id": "83f709c5",
   "metadata": {},
   "outputs": [
    {
     "data": {
      "text/plain": [
       "94000.0"
      ]
     },
     "execution_count": 32,
     "metadata": {},
     "output_type": "execute_result"
    }
   ],
   "source": [
    "cust_affluence_calculation(remaining_working_years=5, income_monthly=2000, assets=10000)"
   ]
  }
 ],
 "metadata": {
  "kernelspec": {
   "display_name": "Python 3 (ipykernel)",
   "language": "python",
   "name": "python3"
  },
  "language_info": {
   "codemirror_mode": {
    "name": "ipython",
    "version": 3
   },
   "file_extension": ".py",
   "mimetype": "text/x-python",
   "name": "python",
   "nbconvert_exporter": "python",
   "pygments_lexer": "ipython3",
   "version": "3.9.12"
  }
 },
 "nbformat": 4,
 "nbformat_minor": 5
}
