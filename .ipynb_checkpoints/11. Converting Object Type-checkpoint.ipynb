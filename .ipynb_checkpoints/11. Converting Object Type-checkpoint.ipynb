{
 "cells": [
  {
   "cell_type": "code",
   "execution_count": 1,
   "id": "982f340f",
   "metadata": {},
   "outputs": [
    {
     "name": "stdout",
     "output_type": "stream",
     "text": [
      "('John', 23, False)\n",
      "<class 'tuple'>\n"
     ]
    }
   ],
   "source": [
    "# Multiple data type elements conversion\n",
    "#1. Tuple to List\n",
    "tupp = \"John\", 23, False\n",
    "print(tupp)\n",
    "print(type(tupp))"
   ]
  },
  {
   "cell_type": "code",
   "execution_count": 3,
   "id": "decbb84f",
   "metadata": {},
   "outputs": [
    {
     "name": "stdout",
     "output_type": "stream",
     "text": [
      "['John', 23, False]\n",
      "<class 'list'>\n"
     ]
    }
   ],
   "source": [
    "tupp_to_list = list(tupp)\n",
    "print(tupp_to_list)\n",
    "print(type(tupp_to_list))"
   ]
  },
  {
   "cell_type": "code",
   "execution_count": 4,
   "id": "34f9ab6f",
   "metadata": {
    "scrolled": true
   },
   "outputs": [
    {
     "name": "stdout",
     "output_type": "stream",
     "text": [
      "{False, 'John', 23}\n",
      "<class 'set'>\n"
     ]
    }
   ],
   "source": [
    "list_to_set = set(tupp_to_list)\n",
    "print(list_to_set)\n",
    "print(type(list_to_set))"
   ]
  },
  {
   "cell_type": "code",
   "execution_count": 5,
   "id": "82845186",
   "metadata": {
    "scrolled": true
   },
   "outputs": [
    {
     "data": {
      "text/plain": [
       "{False: 1, 'John': 1, 23: 1}"
      ]
     },
     "execution_count": 5,
     "metadata": {},
     "output_type": "execute_result"
    }
   ],
   "source": [
    "#set to dictionary\n",
    "set_to_dictionary = dict.fromkeys(list_to_set, 1)\n",
    "set_to_dictionary"
   ]
  },
  {
   "cell_type": "code",
   "execution_count": 7,
   "id": "05517e08",
   "metadata": {},
   "outputs": [
    {
     "name": "stdout",
     "output_type": "stream",
     "text": [
      "[['Theresa', 'Joseph', 'Barb'], ['C001', 'C002', 'C003'], [45, 56, 72]]\n"
     ]
    }
   ],
   "source": [
    "#Example - one list contains keys and another contains values\n",
    "list_keys = ['Name', 'Cust_id', 'Age']\n",
    "list_values_name = ['Theresa', 'Joseph', 'Barb']\n",
    "list_values_cust_id = ['C001', 'C002', 'C003']\n",
    "list_values_age = [45, 56, 72]\n",
    "combined_list = [list_values_name, list_values_cust_id, list_values_age]\n",
    "print(combined_list)"
   ]
  },
  {
   "cell_type": "code",
   "execution_count": 9,
   "id": "c27d8b9d",
   "metadata": {},
   "outputs": [
    {
     "data": {
      "text/plain": [
       "{'Name': None, 'Cust_id': None, 'Age': None}"
      ]
     },
     "execution_count": 9,
     "metadata": {},
     "output_type": "execute_result"
    }
   ],
   "source": [
    "NewDict = dict.fromkeys(list_keys)\n",
    "NewDict"
   ]
  },
  {
   "cell_type": "code",
   "execution_count": 11,
   "id": "6e8e187c",
   "metadata": {},
   "outputs": [
    {
     "data": {
      "text/plain": [
       "{'Name': ['Theresa', 'Joseph', 'Barb'],\n",
       " 'Cust_id': ['C001', 'C002', 'C003'],\n",
       " 'Age': [45, 56, 72]}"
      ]
     },
     "execution_count": 11,
     "metadata": {},
     "output_type": "execute_result"
    }
   ],
   "source": [
    "for x, y in zip(NewDict.keys(), combined_list):\n",
    "    NewDict[x] = y\n",
    "NewDict"
   ]
  },
  {
   "cell_type": "code",
   "execution_count": 12,
   "id": "86ccad00",
   "metadata": {},
   "outputs": [
    {
     "data": {
      "text/plain": [
       "0     John\n",
       "1       23\n",
       "2    False\n",
       "dtype: object"
      ]
     },
     "execution_count": 12,
     "metadata": {},
     "output_type": "execute_result"
    }
   ],
   "source": [
    "# Conversion to series -> with elements of same data type\n",
    "tupp = \"John\", 23, False\n",
    "import pandas as pd\n",
    "pd.Series(tupp)"
   ]
  },
  {
   "cell_type": "code",
   "execution_count": 13,
   "id": "88408a88",
   "metadata": {},
   "outputs": [
    {
     "data": {
      "text/plain": [
       "0       23\n",
       "1    False\n",
       "dtype: object"
      ]
     },
     "execution_count": 13,
     "metadata": {},
     "output_type": "execute_result"
    }
   ],
   "source": [
    "# String > Number > Bool\n",
    "tupp =  23, False\n",
    "import pandas as pd\n",
    "pd.Series(tupp)"
   ]
  }
 ],
 "metadata": {
  "kernelspec": {
   "display_name": "Python 3 (ipykernel)",
   "language": "python",
   "name": "python3"
  },
  "language_info": {
   "codemirror_mode": {
    "name": "ipython",
    "version": 3
   },
   "file_extension": ".py",
   "mimetype": "text/x-python",
   "name": "python",
   "nbconvert_exporter": "python",
   "pygments_lexer": "ipython3",
   "version": "3.9.12"
  }
 },
 "nbformat": 4,
 "nbformat_minor": 5
}
