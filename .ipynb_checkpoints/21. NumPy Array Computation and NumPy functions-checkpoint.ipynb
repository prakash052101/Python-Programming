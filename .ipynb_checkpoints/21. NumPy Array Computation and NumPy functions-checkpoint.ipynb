{
 "cells": [
  {
   "cell_type": "code",
   "execution_count": 1,
   "id": "3bff161b",
   "metadata": {},
   "outputs": [],
   "source": [
    "#Dimensional NumPy Array and Array Specific functions"
   ]
  },
  {
   "cell_type": "code",
   "execution_count": 3,
   "id": "8ba79621",
   "metadata": {},
   "outputs": [
    {
     "data": {
      "text/plain": [
       "array([34, 45, 50, 69, 71])"
      ]
     },
     "execution_count": 3,
     "metadata": {},
     "output_type": "execute_result"
    }
   ],
   "source": [
    "import numpy as np\n",
    "cust_Age = np.array([34, 45, 50, 69, 71])  # creating a rank 1 array\n",
    "cust_Age"
   ]
  },
  {
   "cell_type": "code",
   "execution_count": 4,
   "id": "8bf21efa",
   "metadata": {},
   "outputs": [
    {
     "data": {
      "text/plain": [
       "1"
      ]
     },
     "execution_count": 4,
     "metadata": {},
     "output_type": "execute_result"
    }
   ],
   "source": [
    "#to check dimension of array\n",
    "cust_Age.ndim"
   ]
  },
  {
   "cell_type": "code",
   "execution_count": 5,
   "id": "5c2b8ef6",
   "metadata": {},
   "outputs": [
    {
     "data": {
      "text/plain": [
       "(5,)"
      ]
     },
     "execution_count": 5,
     "metadata": {},
     "output_type": "execute_result"
    }
   ],
   "source": [
    "#to check shape i.e, number of rows and columns\n",
    "cust_Age.shape"
   ]
  },
  {
   "cell_type": "code",
   "execution_count": 6,
   "id": "88866aa1",
   "metadata": {},
   "outputs": [
    {
     "data": {
      "text/plain": [
       "5"
      ]
     },
     "execution_count": 6,
     "metadata": {},
     "output_type": "execute_result"
    }
   ],
   "source": [
    "#to check size i.e, rows and columns\n",
    "cust_Age.size"
   ]
  },
  {
   "cell_type": "code",
   "execution_count": 12,
   "id": "170ba909",
   "metadata": {},
   "outputs": [
    {
     "data": {
      "text/plain": [
       "dtype('int32')"
      ]
     },
     "execution_count": 12,
     "metadata": {},
     "output_type": "execute_result"
    }
   ],
   "source": [
    "#to check data type of elements\n",
    "cust_Age.dtype"
   ]
  },
  {
   "cell_type": "code",
   "execution_count": 13,
   "id": "339c56e8",
   "metadata": {},
   "outputs": [],
   "source": [
    "#2. Two-Dimensional NumPy Array"
   ]
  },
  {
   "cell_type": "code",
   "execution_count": 15,
   "id": "2b883464",
   "metadata": {},
   "outputs": [
    {
     "data": {
      "text/plain": [
       "array([[  34, 1000],\n",
       "       [  35, 5000],\n",
       "       [  47, 3500]])"
      ]
     },
     "execution_count": 15,
     "metadata": {},
     "output_type": "execute_result"
    }
   ],
   "source": [
    "cust_data = np.array([[34, 1000], [35, 5000], [47, 3500]])\n",
    "cust_data"
   ]
  },
  {
   "cell_type": "code",
   "execution_count": 16,
   "id": "d77de5a8",
   "metadata": {},
   "outputs": [
    {
     "data": {
      "text/plain": [
       "2"
      ]
     },
     "execution_count": 16,
     "metadata": {},
     "output_type": "execute_result"
    }
   ],
   "source": [
    "#to check dimension of array\n",
    "cust_data.ndim"
   ]
  },
  {
   "cell_type": "code",
   "execution_count": 17,
   "id": "b3a97ca8",
   "metadata": {},
   "outputs": [
    {
     "data": {
      "text/plain": [
       "6"
      ]
     },
     "execution_count": 17,
     "metadata": {},
     "output_type": "execute_result"
    }
   ],
   "source": [
    "#to check size i.e, rows and columns\n",
    "cust_data.size"
   ]
  },
  {
   "cell_type": "code",
   "execution_count": 18,
   "id": "df6ef551",
   "metadata": {},
   "outputs": [
    {
     "data": {
      "text/plain": [
       "(3, 2)"
      ]
     },
     "execution_count": 18,
     "metadata": {},
     "output_type": "execute_result"
    }
   ],
   "source": [
    "#to check shape i.e, number of rows and columns\n",
    "cust_data.shape"
   ]
  },
  {
   "cell_type": "code",
   "execution_count": 19,
   "id": "c014733a",
   "metadata": {},
   "outputs": [
    {
     "data": {
      "text/plain": [
       "dtype('int32')"
      ]
     },
     "execution_count": 19,
     "metadata": {},
     "output_type": "execute_result"
    }
   ],
   "source": [
    "#to check data type of elements\n",
    "cust_data.dtype"
   ]
  },
  {
   "cell_type": "code",
   "execution_count": 20,
   "id": "cdb53ca6",
   "metadata": {},
   "outputs": [
    {
     "data": {
      "text/plain": [
       "array([[  34, 1000],\n",
       "       [  35, 5000],\n",
       "       [  47, 3500]], dtype=int64)"
      ]
     },
     "execution_count": 20,
     "metadata": {},
     "output_type": "execute_result"
    }
   ],
   "source": [
    "#customizing a data type\n",
    "cust_data = np.array([[34, 1000], [35, 5000], [47, 3500]], dtype = 'int64')\n",
    "cust_data"
   ]
  },
  {
   "cell_type": "code",
   "execution_count": 21,
   "id": "43c75748",
   "metadata": {},
   "outputs": [
    {
     "data": {
      "text/plain": [
       "array([[  34., 1000.],\n",
       "       [  35., 5000.],\n",
       "       [  47., 3500.]])"
      ]
     },
     "execution_count": 21,
     "metadata": {},
     "output_type": "execute_result"
    }
   ],
   "source": [
    "cust_data = np.array([[34, 1000], [35, 5000], [47, 3500]], dtype = 'float')\n",
    "cust_data"
   ]
  },
  {
   "cell_type": "code",
   "execution_count": 22,
   "id": "fe2bff67",
   "metadata": {},
   "outputs": [],
   "source": [
    "#3. Three-Dimensional NumPy Array "
   ]
  },
  {
   "cell_type": "code",
   "execution_count": 23,
   "id": "d96ec4c3",
   "metadata": {},
   "outputs": [
    {
     "data": {
      "text/plain": [
       "array([[[  34, 1000],\n",
       "        [  35, 5000],\n",
       "        [  45, 7000]],\n",
       "\n",
       "       [[  36, 1800],\n",
       "        [  65, 4000],\n",
       "        [  49, 7600]]])"
      ]
     },
     "execution_count": 23,
     "metadata": {},
     "output_type": "execute_result"
    }
   ],
   "source": [
    "TelecomCompany = np.array([[[34, 1000], [35, 5000], [45, 7000]], [[36, 1800], [65, 4000], [49, 7600]]])\n",
    "TelecomCompany"
   ]
  },
  {
   "cell_type": "code",
   "execution_count": 24,
   "id": "05413d8b",
   "metadata": {},
   "outputs": [
    {
     "data": {
      "text/plain": [
       "3"
      ]
     },
     "execution_count": 24,
     "metadata": {},
     "output_type": "execute_result"
    }
   ],
   "source": [
    "#to check dimension of array\n",
    "TelecomCompany.ndim"
   ]
  },
  {
   "cell_type": "code",
   "execution_count": 25,
   "id": "da0dd9dd",
   "metadata": {},
   "outputs": [
    {
     "data": {
      "text/plain": [
       "(2, 3, 2)"
      ]
     },
     "execution_count": 25,
     "metadata": {},
     "output_type": "execute_result"
    }
   ],
   "source": [
    "#to check shape i.e, number of rows and columns\n",
    "TelecomCompany.shape"
   ]
  },
  {
   "cell_type": "code",
   "execution_count": 27,
   "id": "2a6de911",
   "metadata": {},
   "outputs": [
    {
     "data": {
      "text/plain": [
       "12"
      ]
     },
     "execution_count": 27,
     "metadata": {},
     "output_type": "execute_result"
    }
   ],
   "source": [
    "#to check size i.e, rows and columns\n",
    "TelecomCompany.size"
   ]
  },
  {
   "cell_type": "code",
   "execution_count": 28,
   "id": "3cfddab3",
   "metadata": {},
   "outputs": [
    {
     "data": {
      "text/plain": [
       "dtype('int32')"
      ]
     },
     "execution_count": 28,
     "metadata": {},
     "output_type": "execute_result"
    }
   ],
   "source": [
    "#to check data type of elements\n",
    "TelecomCompany.dtype"
   ]
  },
  {
   "cell_type": "code",
   "execution_count": 29,
   "id": "64a8dbc7",
   "metadata": {},
   "outputs": [],
   "source": [
    "#Array Computations"
   ]
  },
  {
   "cell_type": "code",
   "execution_count": 30,
   "id": "57475dc5",
   "metadata": {},
   "outputs": [
    {
     "ename": "TypeError",
     "evalue": "unsupported operand type(s) for /: 'list' and 'list'",
     "output_type": "error",
     "traceback": [
      "\u001b[1;31m---------------------------------------------------------------------------\u001b[0m",
      "\u001b[1;31mTypeError\u001b[0m                                 Traceback (most recent call last)",
      "Input \u001b[1;32mIn [30]\u001b[0m, in \u001b[0;36m<cell line: 4>\u001b[1;34m()\u001b[0m\n\u001b[0;32m      2\u001b[0m distance \u001b[38;5;241m=\u001b[39m [\u001b[38;5;241m10\u001b[39m, \u001b[38;5;241m15\u001b[39m, \u001b[38;5;241m23\u001b[39m, \u001b[38;5;241m14\u001b[39m]\n\u001b[0;32m      3\u001b[0m time \u001b[38;5;241m=\u001b[39m [\u001b[38;5;241m2\u001b[39m, \u001b[38;5;241m3\u001b[39m, \u001b[38;5;241m3\u001b[39m, \u001b[38;5;241m2\u001b[39m]\n\u001b[1;32m----> 4\u001b[0m \u001b[43mdistance\u001b[49m\u001b[38;5;241;43m/\u001b[39;49m\u001b[43mtime\u001b[49m\n",
      "\u001b[1;31mTypeError\u001b[0m: unsupported operand type(s) for /: 'list' and 'list'"
     ]
    }
   ],
   "source": [
    "# below will not work as lists can not perform element by element operation\n",
    "distance = [10, 15, 23, 14]\n",
    "time = [2, 3, 3, 2]\n",
    "distance/time"
   ]
  },
  {
   "cell_type": "code",
   "execution_count": 33,
   "id": "af33bdc9",
   "metadata": {},
   "outputs": [
    {
     "data": {
      "text/plain": [
       "array([5.        , 5.        , 7.66666667, 7.        ])"
      ]
     },
     "execution_count": 33,
     "metadata": {},
     "output_type": "execute_result"
    }
   ],
   "source": [
    "import numpy as np\n",
    "distance = np.array([10, 15, 23, 14])\n",
    "time = np.array([2, 3, 3, 2])\n",
    "distance/time"
   ]
  },
  {
   "cell_type": "code",
   "execution_count": 34,
   "id": "d7d75d70",
   "metadata": {},
   "outputs": [
    {
     "data": {
      "text/plain": [
       "array([149, 136, 247])"
      ]
     },
     "execution_count": 34,
     "metadata": {},
     "output_type": "execute_result"
    }
   ],
   "source": [
    "Marks_math = [34, 45, 89]\n",
    "Marks_science = [48, 55, 98]\n",
    "Marks_socst = [67, 36, 60]\n",
    "np.array(Marks_math) + np.array(Marks_science) + np.array(Marks_socst)"
   ]
  },
  {
   "cell_type": "code",
   "execution_count": 35,
   "id": "8c2fec77",
   "metadata": {},
   "outputs": [
    {
     "data": {
      "text/plain": [
       "array([49.66666667, 45.33333333, 82.33333333])"
      ]
     },
     "execution_count": 35,
     "metadata": {},
     "output_type": "execute_result"
    }
   ],
   "source": [
    "# Average percentage of each student\n",
    "(np.array(Marks_math) + np.array(Marks_science) + np.array(Marks_socst)) / 3"
   ]
  },
  {
   "cell_type": "code",
   "execution_count": 37,
   "id": "1b5802bd",
   "metadata": {},
   "outputs": [
    {
     "data": {
      "text/plain": [
       "array([37, 48, 92])"
      ]
     },
     "execution_count": 37,
     "metadata": {},
     "output_type": "execute_result"
    }
   ],
   "source": [
    "# Broadcasting feature in array\n",
    "Marks_Math_Array = np.array([34, 45, 89])\n",
    "Marks_Math_Array + 3"
   ]
  },
  {
   "cell_type": "code",
   "execution_count": 38,
   "id": "73249166",
   "metadata": {},
   "outputs": [],
   "source": [
    "#Function on array like min, max, sum"
   ]
  },
  {
   "cell_type": "code",
   "execution_count": 39,
   "id": "b452a5cd",
   "metadata": {},
   "outputs": [
    {
     "data": {
      "text/plain": [
       "array([34, 45, 89, 76, 89, 89, 89, 47, 48, 78, 47, 48])"
      ]
     },
     "execution_count": 39,
     "metadata": {},
     "output_type": "execute_result"
    }
   ],
   "source": [
    "Marks_math = np.array([34, 45, 89, 76, 89, 89, 89, 47, 48, 78, 47, 48])\n",
    "Marks_math"
   ]
  },
  {
   "cell_type": "code",
   "execution_count": 40,
   "id": "67097ed6",
   "metadata": {},
   "outputs": [
    {
     "name": "stdout",
     "output_type": "stream",
     "text": [
      "34\n",
      "89\n",
      "64.91666666666667\n",
      "779\n"
     ]
    }
   ],
   "source": [
    "print(Marks_math.min())\n",
    "print(Marks_math.max())\n",
    "print(Marks_math.mean())\n",
    "print(Marks_math.sum())"
   ]
  },
  {
   "cell_type": "code",
   "execution_count": 41,
   "id": "a761d94e",
   "metadata": {},
   "outputs": [],
   "source": [
    "#Functions in NumPy on array object or other python objects like List, tuple, etc."
   ]
  },
  {
   "cell_type": "code",
   "execution_count": 42,
   "id": "9c746906",
   "metadata": {},
   "outputs": [
    {
     "data": {
      "text/plain": [
       "array([34, 45, 47, 48, 76, 78, 89])"
      ]
     },
     "execution_count": 42,
     "metadata": {},
     "output_type": "execute_result"
    }
   ],
   "source": [
    "Marks_math = [34, 45, 89, 76, 89, 89, 89, 47, 48, 78, 47, 48]\n",
    "np.unique(Marks_math)"
   ]
  },
  {
   "cell_type": "code",
   "execution_count": 43,
   "id": "37ab6145",
   "metadata": {},
   "outputs": [
    {
     "data": {
      "text/plain": [
       "nan"
      ]
     },
     "execution_count": 43,
     "metadata": {},
     "output_type": "execute_result"
    }
   ],
   "source": [
    "#below sum() function would not work as one of the element is math\n",
    "Marks_math = [34, 45, 47, 48, 76, 78, np.NaN]\n",
    "sum(Marks_math)"
   ]
  },
  {
   "cell_type": "code",
   "execution_count": 44,
   "id": "399880f0",
   "metadata": {},
   "outputs": [
    {
     "data": {
      "text/plain": [
       "328.0"
      ]
     },
     "execution_count": 44,
     "metadata": {},
     "output_type": "execute_result"
    }
   ],
   "source": [
    "#solution to above problem\n",
    "Marks_math = [34, 45, 47, 48, 76, 78, np.NaN]\n",
    "np.nansum(Marks_math)"
   ]
  },
  {
   "cell_type": "code",
   "execution_count": 45,
   "id": "675ec4cb",
   "metadata": {},
   "outputs": [
    {
     "data": {
      "text/plain": [
       "54.666666666666664"
      ]
     },
     "execution_count": 45,
     "metadata": {},
     "output_type": "execute_result"
    }
   ],
   "source": [
    "np.nanmean(Marks_math)"
   ]
  },
  {
   "cell_type": "code",
   "execution_count": 46,
   "id": "999df2fb",
   "metadata": {},
   "outputs": [
    {
     "data": {
      "text/plain": [
       "array([ 9, 12])"
      ]
     },
     "execution_count": 46,
     "metadata": {},
     "output_type": "execute_result"
    }
   ],
   "source": [
    "3 * np.array([3,4])"
   ]
  }
 ],
 "metadata": {
  "kernelspec": {
   "display_name": "Python 3 (ipykernel)",
   "language": "python",
   "name": "python3"
  },
  "language_info": {
   "codemirror_mode": {
    "name": "ipython",
    "version": 3
   },
   "file_extension": ".py",
   "mimetype": "text/x-python",
   "name": "python",
   "nbconvert_exporter": "python",
   "pygments_lexer": "ipython3",
   "version": "3.9.12"
  }
 },
 "nbformat": 4,
 "nbformat_minor": 5
}
