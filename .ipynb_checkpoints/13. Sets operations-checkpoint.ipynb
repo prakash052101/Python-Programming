{
 "cells": [
  {
   "cell_type": "code",
   "execution_count": 1,
   "id": "e404933d",
   "metadata": {},
   "outputs": [
    {
     "data": {
      "text/plain": [
       "{'Kit Kat', 'Maggie', 'Milk Maid', 'Milo'}"
      ]
     },
     "execution_count": 1,
     "metadata": {},
     "output_type": "execute_result"
    }
   ],
   "source": [
    "# set is unordered collection of unique elements\n",
    "Grocery_Products1 = {'Milo', 'Maggie', 'Kit Kat', 'Milk Maid'}\n",
    "Grocery_Products1"
   ]
  },
  {
   "cell_type": "code",
   "execution_count": 2,
   "id": "6dcc0afe",
   "metadata": {},
   "outputs": [
    {
     "data": {
      "text/plain": [
       "{'Cerelac', 'Expresso', 'Milo', 'NesCafe'}"
      ]
     },
     "execution_count": 2,
     "metadata": {},
     "output_type": "execute_result"
    }
   ],
   "source": [
    "Grocery_Products2 = {'Milo', 'Expresso', 'NesCafe', 'Cerelac'}\n",
    "Grocery_Products2"
   ]
  },
  {
   "cell_type": "code",
   "execution_count": 5,
   "id": "064406ef",
   "metadata": {},
   "outputs": [
    {
     "data": {
      "text/plain": [
       "{'Cerelac', 'Expresso', 'Kit Kat', 'Maggie', 'Milk Maid', 'Milo', 'NesCafe'}"
      ]
     },
     "execution_count": 5,
     "metadata": {},
     "output_type": "execute_result"
    }
   ],
   "source": [
    "# union of sets \"|\"\n",
    "combined_sets = Grocery_Products1 | Grocery_Products2\n",
    "combined_sets"
   ]
  },
  {
   "cell_type": "code",
   "execution_count": 6,
   "id": "2f303b06",
   "metadata": {},
   "outputs": [
    {
     "data": {
      "text/plain": [
       "{'Milo'}"
      ]
     },
     "execution_count": 6,
     "metadata": {},
     "output_type": "execute_result"
    }
   ],
   "source": [
    "# common Records \"&\"\n",
    "Intersection = Grocery_Products1 & Grocery_Products2\n",
    "Intersection"
   ]
  },
  {
   "cell_type": "code",
   "execution_count": 7,
   "id": "e7c11a9f",
   "metadata": {},
   "outputs": [
    {
     "data": {
      "text/plain": [
       "{'Kit Kat', 'Maggie', 'Milk Maid'}"
      ]
     },
     "execution_count": 7,
     "metadata": {},
     "output_type": "execute_result"
    }
   ],
   "source": [
    "# difference in set \"-\"\n",
    "Grocery_Products1 - Grocery_Products2"
   ]
  },
  {
   "cell_type": "code",
   "execution_count": 9,
   "id": "4bcbe97d",
   "metadata": {},
   "outputs": [
    {
     "data": {
      "text/plain": [
       "{'Cerelac', 'Expresso', 'NesCafe'}"
      ]
     },
     "execution_count": 9,
     "metadata": {},
     "output_type": "execute_result"
    }
   ],
   "source": [
    "Grocery_Products2 - Grocery_Products1"
   ]
  },
  {
   "cell_type": "code",
   "execution_count": 10,
   "id": "eb04b3b2",
   "metadata": {},
   "outputs": [],
   "source": [
    "# updating a set with union\n",
    "Grocery_Products1.update(Grocery_Products2)"
   ]
  },
  {
   "cell_type": "code",
   "execution_count": 11,
   "id": "8a4a9e3e",
   "metadata": {},
   "outputs": [
    {
     "data": {
      "text/plain": [
       "{'Cerelac', 'Expresso', 'Kit Kat', 'Maggie', 'Milk Maid', 'Milo', 'NesCafe'}"
      ]
     },
     "execution_count": 11,
     "metadata": {},
     "output_type": "execute_result"
    }
   ],
   "source": [
    "Grocery_Products1"
   ]
  },
  {
   "cell_type": "code",
   "execution_count": 12,
   "id": "d9a5f8ed",
   "metadata": {},
   "outputs": [
    {
     "data": {
      "text/plain": [
       "{'Boost',\n",
       " 'Cerelac',\n",
       " 'Expresso',\n",
       " 'Kit Kat',\n",
       " 'Maggie',\n",
       " 'Milk Maid',\n",
       " 'Milo',\n",
       " 'NesCafe'}"
      ]
     },
     "execution_count": 12,
     "metadata": {},
     "output_type": "execute_result"
    }
   ],
   "source": [
    "# adding an element to set\n",
    "Grocery_Products1.add('Boost')\n",
    "Grocery_Products1"
   ]
  },
  {
   "cell_type": "code",
   "execution_count": 13,
   "id": "5da8e81f",
   "metadata": {},
   "outputs": [
    {
     "data": {
      "text/plain": [
       "{'Boost', 'Cerelac', 'Expresso', 'Kit Kat', 'Maggie', 'Milk Maid', 'Milo'}"
      ]
     },
     "execution_count": 13,
     "metadata": {},
     "output_type": "execute_result"
    }
   ],
   "source": [
    "# Removing a value\n",
    "Grocery_Products1.remove('NesCafe')\n",
    "Grocery_Products1"
   ]
  },
  {
   "cell_type": "code",
   "execution_count": 14,
   "id": "3e5bf5b7",
   "metadata": {},
   "outputs": [
    {
     "ename": "KeyError",
     "evalue": "'NesCafe'",
     "output_type": "error",
     "traceback": [
      "\u001b[1;31m---------------------------------------------------------------------------\u001b[0m",
      "\u001b[1;31mKeyError\u001b[0m                                  Traceback (most recent call last)",
      "Input \u001b[1;32mIn [14]\u001b[0m, in \u001b[0;36m<cell line: 2>\u001b[1;34m()\u001b[0m\n\u001b[0;32m      1\u001b[0m \u001b[38;5;66;03m# removing again the removed element will give an error\u001b[39;00m\n\u001b[1;32m----> 2\u001b[0m \u001b[43mGrocery_Products1\u001b[49m\u001b[38;5;241;43m.\u001b[39;49m\u001b[43mremove\u001b[49m\u001b[43m(\u001b[49m\u001b[38;5;124;43m'\u001b[39;49m\u001b[38;5;124;43mNesCafe\u001b[39;49m\u001b[38;5;124;43m'\u001b[39;49m\u001b[43m)\u001b[49m\n\u001b[0;32m      3\u001b[0m Grocery_Products1\n",
      "\u001b[1;31mKeyError\u001b[0m: 'NesCafe'"
     ]
    }
   ],
   "source": [
    "# removing again the removed element will give an error\n",
    "Grocery_Products1.remove('NesCafe')"
   ]
  },
  {
   "cell_type": "code",
   "execution_count": 15,
   "id": "2e25c09d",
   "metadata": {},
   "outputs": [],
   "source": [
    "# to check whether an element has been already removed from the set or not\n",
    "Grocery_Products1.discard('NesCafe') # this will not throw an error"
   ]
  }
 ],
 "metadata": {
  "kernelspec": {
   "display_name": "Python 3 (ipykernel)",
   "language": "python",
   "name": "python3"
  },
  "language_info": {
   "codemirror_mode": {
    "name": "ipython",
    "version": 3
   },
   "file_extension": ".py",
   "mimetype": "text/x-python",
   "name": "python",
   "nbconvert_exporter": "python",
   "pygments_lexer": "ipython3",
   "version": "3.9.12"
  }
 },
 "nbformat": 4,
 "nbformat_minor": 5
}
