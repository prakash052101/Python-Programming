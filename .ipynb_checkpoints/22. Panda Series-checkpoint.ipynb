{
 "cells": [
  {
   "cell_type": "code",
   "execution_count": 2,
   "id": "3bff161b",
   "metadata": {},
   "outputs": [
    {
     "data": {
      "text/plain": [
       "0    23\n",
       "1    45\n",
       "2    26\n",
       "3    78\n",
       "4    45\n",
       "dtype: int64"
      ]
     },
     "execution_count": 2,
     "metadata": {},
     "output_type": "execute_result"
    }
   ],
   "source": [
    "import pandas as pd\n",
    "#one dimensional object\n",
    "cust_age = pd.Series([23, 45, 26, 78, 45])\n",
    "cust_age"
   ]
  },
  {
   "cell_type": "code",
   "execution_count": 3,
   "id": "afa359bb",
   "metadata": {},
   "outputs": [
    {
     "data": {
      "text/plain": [
       "0    28\n",
       "1    50\n",
       "2    31\n",
       "3    83\n",
       "4    50\n",
       "dtype: int64"
      ]
     },
     "execution_count": 3,
     "metadata": {},
     "output_type": "execute_result"
    }
   ],
   "source": [
    "cust_age + 5"
   ]
  },
  {
   "cell_type": "code",
   "execution_count": 4,
   "id": "cd8e0776",
   "metadata": {},
   "outputs": [
    {
     "data": {
      "text/plain": [
       "0    23.0\n",
       "1    45.0\n",
       "2    26.0\n",
       "3     NaN\n",
       "4    78.0\n",
       "5    45.0\n",
       "6     NaN\n",
       "dtype: float64"
      ]
     },
     "execution_count": 4,
     "metadata": {},
     "output_type": "execute_result"
    }
   ],
   "source": [
    "# numpy represents missing value as np.NaN\n",
    "# pandas represents missing value as None \n",
    "import numpy as np\n",
    "cust_age = pd.Series([23, 45, 26, np.NaN, 78, 45, None])\n",
    "cust_age"
   ]
  },
  {
   "cell_type": "code",
   "execution_count": 5,
   "id": "47f36929",
   "metadata": {},
   "outputs": [
    {
     "data": {
      "text/plain": [
       "dtype('float64')"
      ]
     },
     "execution_count": 5,
     "metadata": {},
     "output_type": "execute_result"
    }
   ],
   "source": [
    "cust_age.dtype"
   ]
  },
  {
   "cell_type": "code",
   "execution_count": 6,
   "id": "e275a685",
   "metadata": {},
   "outputs": [
    {
     "data": {
      "text/plain": [
       "217.0"
      ]
     },
     "execution_count": 6,
     "metadata": {},
     "output_type": "execute_result"
    }
   ],
   "source": [
    "np.nansum(cust_age)"
   ]
  },
  {
   "cell_type": "code",
   "execution_count": 7,
   "id": "d5b013b7",
   "metadata": {},
   "outputs": [
    {
     "data": {
      "text/plain": [
       "0    23\n",
       "1    45\n",
       "2    56\n",
       "3    78\n",
       "4    45\n",
       "dtype: object"
      ]
     },
     "execution_count": 7,
     "metadata": {},
     "output_type": "execute_result"
    }
   ],
   "source": [
    "#implicit coercion\n",
    "cust_age = pd.Series([23, 45, 56, '78', 45])\n",
    "cust_age"
   ]
  },
  {
   "cell_type": "code",
   "execution_count": 12,
   "id": "97dda5d2",
   "metadata": {},
   "outputs": [
    {
     "name": "stdout",
     "output_type": "stream",
     "text": [
      "0    23\n",
      "1    45\n",
      "2    56\n",
      "3    78\n",
      "4    45\n",
      "dtype: int32\n"
     ]
    },
    {
     "name": "stderr",
     "output_type": "stream",
     "text": [
      "C:\\Users\\Prakash Stark\\AppData\\Local\\Temp\\ipykernel_6956\\3945035855.py:2: FutureWarning: Values are too large to be losslessly cast to int32. In a future version this will raise OverflowError. To retain the old behavior, use pd.Series(values).astype(int32)\n",
      "  cust_age = pd.Series([23, 45, 56, '78', 45], dtype = 'int32')\n"
     ]
    }
   ],
   "source": [
    "#explicit coercion\n",
    "cust_age = pd.Series([23, 45, 56, '78', 45], dtype = 'int32')\n",
    "print(cust_age)"
   ]
  },
  {
   "cell_type": "code",
   "execution_count": 13,
   "id": "5356accc",
   "metadata": {},
   "outputs": [
    {
     "name": "stdout",
     "output_type": "stream",
     "text": [
      "0    John\n",
      "1    Paul\n",
      "2    Lisa\n",
      "dtype: object\n",
      "object\n",
      "<class 'pandas.core.series.Series'>\n"
     ]
    }
   ],
   "source": [
    "cust_name = pd.Series([\"John\", \"Paul\", \"Lisa\"])\n",
    "print(cust_name)\n",
    "print(cust_name.dtype)\n",
    "print(type(cust_name))"
   ]
  },
  {
   "cell_type": "code",
   "execution_count": 14,
   "id": "5d74c0f4",
   "metadata": {
    "scrolled": true
   },
   "outputs": [
    {
     "name": "stdout",
     "output_type": "stream",
     "text": [
      "0     True\n",
      "1    False\n",
      "dtype: bool\n"
     ]
    },
    {
     "data": {
      "text/plain": [
       "dtype('bool')"
      ]
     },
     "execution_count": 14,
     "metadata": {},
     "output_type": "execute_result"
    }
   ],
   "source": [
    "bool_series = pd.Series([True, False])\n",
    "print(bool_series)\n",
    "bool_series.dtype"
   ]
  },
  {
   "cell_type": "code",
   "execution_count": null,
   "id": "5da5aba2",
   "metadata": {},
   "outputs": [],
   "source": [
    "#converting a data type"
   ]
  },
  {
   "cell_type": "code",
   "execution_count": 16,
   "id": "e4efdcce",
   "metadata": {},
   "outputs": [
    {
     "name": "stdout",
     "output_type": "stream",
     "text": [
      "0    78\n",
      "1    89\n",
      "2    76\n",
      "3    90\n",
      "4    67\n",
      "dtype: object\n"
     ]
    },
    {
     "data": {
      "text/plain": [
       "dtype('O')"
      ]
     },
     "execution_count": 16,
     "metadata": {},
     "output_type": "execute_result"
    }
   ],
   "source": [
    "score_maths = [78, 89, \"76\", 90, 67]\n",
    "score_maths_series = pd.Series(score_maths)\n",
    "print(score_maths_series)\n",
    "score_maths_series.dtype"
   ]
  },
  {
   "cell_type": "code",
   "execution_count": 18,
   "id": "f40b87e4",
   "metadata": {},
   "outputs": [
    {
     "name": "stdout",
     "output_type": "stream",
     "text": [
      "0    83\n",
      "1    94\n",
      "2    81\n",
      "3    95\n",
      "4    72\n",
      "dtype: int32\n"
     ]
    }
   ],
   "source": [
    "#convert to integer data type\n",
    "New_Marks = score_maths_series.astype(int) + 5\n",
    "print(New_Marks)"
   ]
  },
  {
   "cell_type": "code",
   "execution_count": 20,
   "id": "5d07da48",
   "metadata": {},
   "outputs": [
    {
     "data": {
      "text/plain": [
       "0    False\n",
       "1     True\n",
       "2     True\n",
       "3    False\n",
       "4     True\n",
       "5     True\n",
       "6    False\n",
       "7     True\n",
       "8     True\n",
       "dtype: bool"
      ]
     },
     "execution_count": 20,
     "metadata": {},
     "output_type": "execute_result"
    }
   ],
   "source": [
    "customer_card = pd.Series([0, 1, 3, 0, 5, 7, 0, 3, -4])\n",
    "customer_card.astype(bool)"
   ]
  }
 ],
 "metadata": {
  "kernelspec": {
   "display_name": "Python 3 (ipykernel)",
   "language": "python",
   "name": "python3"
  },
  "language_info": {
   "codemirror_mode": {
    "name": "ipython",
    "version": 3
   },
   "file_extension": ".py",
   "mimetype": "text/x-python",
   "name": "python",
   "nbconvert_exporter": "python",
   "pygments_lexer": "ipython3",
   "version": "3.9.12"
  }
 },
 "nbformat": 4,
 "nbformat_minor": 5
}
