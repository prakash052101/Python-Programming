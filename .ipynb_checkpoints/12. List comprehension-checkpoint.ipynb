{
 "cells": [
  {
   "cell_type": "code",
   "execution_count": 10,
   "id": "66e628b5",
   "metadata": {},
   "outputs": [
    {
     "data": {
      "text/plain": [
       "['Timothy', 34, 19.6, False]"
      ]
     },
     "execution_count": 10,
     "metadata": {},
     "output_type": "execute_result"
    }
   ],
   "source": [
    "#################### List Comprehension #################\n",
    "First_list = ['Timothy', 34, 19.6, False]\n",
    "First_list"
   ]
  },
  {
   "cell_type": "code",
   "execution_count": 3,
   "id": "6a8f3277",
   "metadata": {},
   "outputs": [],
   "source": [
    "# appending the element - add the element from the last of the list\n",
    "First_list.append('Prakash')"
   ]
  },
  {
   "cell_type": "code",
   "execution_count": 7,
   "id": "036fe2c3",
   "metadata": {},
   "outputs": [
    {
     "data": {
      "text/plain": [
       "[34, 19.6, False, 'Prakash']"
      ]
     },
     "execution_count": 7,
     "metadata": {},
     "output_type": "execute_result"
    }
   ],
   "source": [
    "First_list"
   ]
  },
  {
   "cell_type": "code",
   "execution_count": 8,
   "id": "497a106f",
   "metadata": {},
   "outputs": [],
   "source": [
    "# removing an elemnt - takes the name of the element to be removed\n",
    "First_list.remove('Prakash')"
   ]
  },
  {
   "cell_type": "code",
   "execution_count": 9,
   "id": "b4fdfc18",
   "metadata": {},
   "outputs": [
    {
     "data": {
      "text/plain": [
       "[34, 19.6, False]"
      ]
     },
     "execution_count": 9,
     "metadata": {},
     "output_type": "execute_result"
    }
   ],
   "source": [
    "First_list"
   ]
  },
  {
   "cell_type": "code",
   "execution_count": 11,
   "id": "bb5c73ae",
   "metadata": {},
   "outputs": [
    {
     "data": {
      "text/plain": [
       "False"
      ]
     },
     "execution_count": 11,
     "metadata": {},
     "output_type": "execute_result"
    }
   ],
   "source": [
    "# removing an elment by indices\n",
    "First_list.pop(3)"
   ]
  },
  {
   "cell_type": "code",
   "execution_count": 12,
   "id": "8b2c8ca0",
   "metadata": {},
   "outputs": [
    {
     "data": {
      "text/plain": [
       "['Hr', 'Marketing', 'Production', 'IT', 'Analytics']"
      ]
     },
     "execution_count": 12,
     "metadata": {},
     "output_type": "execute_result"
    }
   ],
   "source": [
    "# Appening two different lists\n",
    "List1 = ['Hr', 'Marketing', 'Production']\n",
    "List2 = [ 'IT', 'Analytics']\n",
    "List1 + List2"
   ]
  },
  {
   "cell_type": "code",
   "execution_count": 13,
   "id": "788cc860",
   "metadata": {},
   "outputs": [
    {
     "data": {
      "text/plain": [
       "(['Hr', 'Marketing', 'Production'], ['IT', 'Analytics'])"
      ]
     },
     "execution_count": 13,
     "metadata": {},
     "output_type": "execute_result"
    }
   ],
   "source": [
    "List1, List2"
   ]
  }
 ],
 "metadata": {
  "kernelspec": {
   "display_name": "Python 3 (ipykernel)",
   "language": "python",
   "name": "python3"
  },
  "language_info": {
   "codemirror_mode": {
    "name": "ipython",
    "version": 3
   },
   "file_extension": ".py",
   "mimetype": "text/x-python",
   "name": "python",
   "nbconvert_exporter": "python",
   "pygments_lexer": "ipython3",
   "version": "3.9.12"
  }
 },
 "nbformat": 4,
 "nbformat_minor": 5
}
