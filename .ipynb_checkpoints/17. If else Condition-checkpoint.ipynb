{
 "cells": [
  {
   "cell_type": "code",
   "execution_count": 2,
   "id": "d6f4baa2",
   "metadata": {},
   "outputs": [
    {
     "name": "stdout",
     "output_type": "stream",
     "text": [
      "minor\n"
     ]
    }
   ],
   "source": [
    "# if - else condition\n",
    "age = 16\n",
    "if age < 18:\n",
    "    print('Minor')\n",
    "else:\n",
    "    print('Adult')"
   ]
  },
  {
   "cell_type": "code",
   "execution_count": 3,
   "id": "c3856d32",
   "metadata": {},
   "outputs": [
    {
     "name": "stdout",
     "output_type": "stream",
     "text": [
      "Adult\n"
     ]
    }
   ],
   "source": [
    "age = 18\n",
    "if age < 18:\n",
    "    print('Minor')\n",
    "else:\n",
    "    print('Adult')"
   ]
  },
  {
   "cell_type": "code",
   "execution_count": 4,
   "id": "76514504",
   "metadata": {},
   "outputs": [],
   "source": [
    "# if - elif - else condition"
   ]
  },
  {
   "cell_type": "code",
   "execution_count": 7,
   "id": "4dab9036",
   "metadata": {},
   "outputs": [
    {
     "name": "stdout",
     "output_type": "stream",
     "text": [
      "Grade B\n"
     ]
    }
   ],
   "source": [
    "marks = 81\n",
    "if marks > 90:\n",
    "    print('Grade A')\n",
    "elif 80<=marks<=90:\n",
    "    print('Grade B')\n",
    "else:\n",
    "    print('Grade C')"
   ]
  },
  {
   "cell_type": "code",
   "execution_count": 8,
   "id": "e88d9ab0",
   "metadata": {},
   "outputs": [
    {
     "name": "stdout",
     "output_type": "stream",
     "text": [
      "Grade A\n"
     ]
    }
   ],
   "source": [
    "marks = 91\n",
    "if marks > 90:\n",
    "    print('Grade A')\n",
    "elif 80<=marks<=90:\n",
    "    print('Grade B')\n",
    "else:\n",
    "    print('Grade C')"
   ]
  },
  {
   "cell_type": "code",
   "execution_count": 9,
   "id": "f5c3f83d",
   "metadata": {},
   "outputs": [
    {
     "name": "stdout",
     "output_type": "stream",
     "text": [
      "Grade C\n"
     ]
    }
   ],
   "source": [
    "marks = 70\n",
    "if marks > 90:\n",
    "    print('Grade A')\n",
    "elif 80<=marks<=90:\n",
    "    print('Grade B')\n",
    "else:\n",
    "    print('Grade C')"
   ]
  },
  {
   "cell_type": "code",
   "execution_count": null,
   "id": "5e2da605",
   "metadata": {},
   "outputs": [],
   "source": [
    "# Nesting if - else condition"
   ]
  },
  {
   "cell_type": "code",
   "execution_count": 10,
   "id": "826e8016",
   "metadata": {},
   "outputs": [
    {
     "data": {
      "text/plain": [
       "(1, 2, 3)"
      ]
     },
     "execution_count": 10,
     "metadata": {},
     "output_type": "execute_result"
    }
   ],
   "source": [
    "tuple(list({1, 2, 3}))"
   ]
  },
  {
   "cell_type": "code",
   "execution_count": 11,
   "id": "20be188d",
   "metadata": {},
   "outputs": [
    {
     "name": "stdout",
     "output_type": "stream",
     "text": [
      "Adult\n"
     ]
    }
   ],
   "source": [
    "#nested condition\n",
    "Age = 50\n",
    "IQ = \"Moderate Intelligent\"\n",
    "if Age < 18:\n",
    "    if IQ == \"Intelligent\":\n",
    "        print(\"Minor & Intellignt\")\n",
    "    else:\n",
    "        print(\"Minor & Normal\")\n",
    "else:\n",
    "    print('Adult')"
   ]
  },
  {
   "cell_type": "code",
   "execution_count": 12,
   "id": "43464a1c",
   "metadata": {},
   "outputs": [
    {
     "name": "stdout",
     "output_type": "stream",
     "text": [
      "Minor & Normal\n"
     ]
    }
   ],
   "source": [
    "Age = 10\n",
    "IQ = \"Moderate Intelligent\"\n",
    "if Age < 18:\n",
    "    if IQ == \"Intelligent\":\n",
    "        print(\"Minor & Intellignt\")\n",
    "    else:\n",
    "        print(\"Minor & Normal\")\n",
    "else:\n",
    "    print('Adult')"
   ]
  },
  {
   "cell_type": "code",
   "execution_count": 13,
   "id": "5a4f559b",
   "metadata": {},
   "outputs": [
    {
     "name": "stdout",
     "output_type": "stream",
     "text": [
      "Minor & Intellignt\n"
     ]
    }
   ],
   "source": [
    "Age = 10\n",
    "IQ = \"Intelligent\"\n",
    "if Age < 18:\n",
    "    if IQ == \"Intelligent\":\n",
    "        print(\"Minor & Intellignt\")\n",
    "    else:\n",
    "        print(\"Minor & Normal\")\n",
    "else:\n",
    "    print('Adult')"
   ]
  }
 ],
 "metadata": {
  "kernelspec": {
   "display_name": "Python 3 (ipykernel)",
   "language": "python",
   "name": "python3"
  },
  "language_info": {
   "codemirror_mode": {
    "name": "ipython",
    "version": 3
   },
   "file_extension": ".py",
   "mimetype": "text/x-python",
   "name": "python",
   "nbconvert_exporter": "python",
   "pygments_lexer": "ipython3",
   "version": "3.9.12"
  }
 },
 "nbformat": 4,
 "nbformat_minor": 5
}
