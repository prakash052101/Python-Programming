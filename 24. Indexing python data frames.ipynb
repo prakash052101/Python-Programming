{
 "cells": [
  {
   "cell_type": "code",
   "execution_count": null,
   "id": "1d3b775f",
   "metadata": {},
   "outputs": [],
   "source": [
    "#Indexing Data frames wiith default indexes, i.e column number with iloc syntax"
   ]
  },
  {
   "cell_type": "code",
   "execution_count": 2,
   "id": "3bff161b",
   "metadata": {},
   "outputs": [
    {
     "data": {
      "text/html": [
       "<div>\n",
       "<style scoped>\n",
       "    .dataframe tbody tr th:only-of-type {\n",
       "        vertical-align: middle;\n",
       "    }\n",
       "\n",
       "    .dataframe tbody tr th {\n",
       "        vertical-align: top;\n",
       "    }\n",
       "\n",
       "    .dataframe thead th {\n",
       "        text-align: right;\n",
       "    }\n",
       "</style>\n",
       "<table border=\"1\" class=\"dataframe\">\n",
       "  <thead>\n",
       "    <tr style=\"text-align: right;\">\n",
       "      <th></th>\n",
       "      <th>Name_Emp</th>\n",
       "      <th>Age</th>\n",
       "      <th>GT_5_yrs</th>\n",
       "    </tr>\n",
       "  </thead>\n",
       "  <tbody>\n",
       "    <tr>\n",
       "      <th>0</th>\n",
       "      <td>Andy Simpson</td>\n",
       "      <td>34</td>\n",
       "      <td>True</td>\n",
       "    </tr>\n",
       "    <tr>\n",
       "      <th>1</th>\n",
       "      <td>John Anderson</td>\n",
       "      <td>45</td>\n",
       "      <td>False</td>\n",
       "    </tr>\n",
       "    <tr>\n",
       "      <th>2</th>\n",
       "      <td>Liza Brooke</td>\n",
       "      <td>23</td>\n",
       "      <td>False</td>\n",
       "    </tr>\n",
       "  </tbody>\n",
       "</table>\n",
       "</div>"
      ],
      "text/plain": [
       "        Name_Emp  Age  GT_5_yrs\n",
       "0   Andy Simpson   34      True\n",
       "1  John Anderson   45     False\n",
       "2    Liza Brooke   23     False"
      ]
     },
     "execution_count": 2,
     "metadata": {},
     "output_type": "execute_result"
    }
   ],
   "source": [
    "import pandas as pd\n",
    "Emp_Details = pd.DataFrame({'Name_Emp':['Andy Simpson', 'John Anderson', 'Liza Brooke'], 'Age':[34,45, 23],\n",
    "                            'GT_5_yrs':[True, False, False]})\n",
    "Emp_Details"
   ]
  },
  {
   "cell_type": "code",
   "execution_count": 3,
   "id": "b1016344",
   "metadata": {},
   "outputs": [
    {
     "data": {
      "text/plain": [
       "Name_Emp    Liza Brooke\n",
       "Age                  23\n",
       "GT_5_yrs          False\n",
       "Name: 2, dtype: object"
      ]
     },
     "execution_count": 3,
     "metadata": {},
     "output_type": "execute_result"
    }
   ],
   "source": [
    "#indexing rows only - first reference to rows then to columns\n",
    "Emp_Details.iloc[2, :]"
   ]
  },
  {
   "cell_type": "code",
   "execution_count": 4,
   "id": "c4fe5423",
   "metadata": {},
   "outputs": [
    {
     "data": {
      "text/plain": [
       "Name_Emp    Liza Brooke\n",
       "Age                  23\n",
       "GT_5_yrs          False\n",
       "Name: 2, dtype: object"
      ]
     },
     "execution_count": 4,
     "metadata": {},
     "output_type": "execute_result"
    }
   ],
   "source": [
    "#or\n",
    "Emp_Details.iloc[2]"
   ]
  },
  {
   "cell_type": "code",
   "execution_count": 6,
   "id": "7a4e39a6",
   "metadata": {},
   "outputs": [
    {
     "data": {
      "text/plain": [
       "0    34\n",
       "1    45\n",
       "2    23\n",
       "Name: Age, dtype: int64"
      ]
     },
     "execution_count": 6,
     "metadata": {},
     "output_type": "execute_result"
    }
   ],
   "source": [
    "#indexing columns only\n",
    "Emp_Details.iloc[:,1]"
   ]
  },
  {
   "cell_type": "code",
   "execution_count": 7,
   "id": "ff116c94",
   "metadata": {},
   "outputs": [
    {
     "data": {
      "text/plain": [
       "45"
      ]
     },
     "execution_count": 7,
     "metadata": {},
     "output_type": "execute_result"
    }
   ],
   "source": [
    "#indexing rows and columns\n",
    "Emp_Details.iloc[1, 1]"
   ]
  },
  {
   "cell_type": "code",
   "execution_count": 8,
   "id": "17bcd2d5",
   "metadata": {},
   "outputs": [
    {
     "data": {
      "text/html": [
       "<div>\n",
       "<style scoped>\n",
       "    .dataframe tbody tr th:only-of-type {\n",
       "        vertical-align: middle;\n",
       "    }\n",
       "\n",
       "    .dataframe tbody tr th {\n",
       "        vertical-align: top;\n",
       "    }\n",
       "\n",
       "    .dataframe thead th {\n",
       "        text-align: right;\n",
       "    }\n",
       "</style>\n",
       "<table border=\"1\" class=\"dataframe\">\n",
       "  <thead>\n",
       "    <tr style=\"text-align: right;\">\n",
       "      <th></th>\n",
       "      <th>Name_Emp</th>\n",
       "      <th>Age</th>\n",
       "    </tr>\n",
       "  </thead>\n",
       "  <tbody>\n",
       "    <tr>\n",
       "      <th>0</th>\n",
       "      <td>Andy Simpson</td>\n",
       "      <td>34</td>\n",
       "    </tr>\n",
       "    <tr>\n",
       "      <th>1</th>\n",
       "      <td>John Anderson</td>\n",
       "      <td>45</td>\n",
       "    </tr>\n",
       "  </tbody>\n",
       "</table>\n",
       "</div>"
      ],
      "text/plain": [
       "        Name_Emp  Age\n",
       "0   Andy Simpson   34\n",
       "1  John Anderson   45"
      ]
     },
     "execution_count": 8,
     "metadata": {},
     "output_type": "execute_result"
    }
   ],
   "source": [
    "#indexing the series of cols or rows wioth colons (0 to n-1)\n",
    "Emp_Details.iloc[0:2, 0:2]"
   ]
  },
  {
   "cell_type": "code",
   "execution_count": 9,
   "id": "52d2eb45",
   "metadata": {},
   "outputs": [
    {
     "data": {
      "text/html": [
       "<div>\n",
       "<style scoped>\n",
       "    .dataframe tbody tr th:only-of-type {\n",
       "        vertical-align: middle;\n",
       "    }\n",
       "\n",
       "    .dataframe tbody tr th {\n",
       "        vertical-align: top;\n",
       "    }\n",
       "\n",
       "    .dataframe thead th {\n",
       "        text-align: right;\n",
       "    }\n",
       "</style>\n",
       "<table border=\"1\" class=\"dataframe\">\n",
       "  <thead>\n",
       "    <tr style=\"text-align: right;\">\n",
       "      <th></th>\n",
       "      <th>Name_Emp</th>\n",
       "      <th>Age</th>\n",
       "      <th>GT_5_yrs</th>\n",
       "    </tr>\n",
       "  </thead>\n",
       "  <tbody>\n",
       "    <tr>\n",
       "      <th>0</th>\n",
       "      <td>Andy Simpson</td>\n",
       "      <td>34</td>\n",
       "      <td>True</td>\n",
       "    </tr>\n",
       "    <tr>\n",
       "      <th>2</th>\n",
       "      <td>Liza Brooke</td>\n",
       "      <td>23</td>\n",
       "      <td>False</td>\n",
       "    </tr>\n",
       "  </tbody>\n",
       "</table>\n",
       "</div>"
      ],
      "text/plain": [
       "       Name_Emp  Age  GT_5_yrs\n",
       "0  Andy Simpson   34      True\n",
       "2   Liza Brooke   23     False"
      ]
     },
     "execution_count": 9,
     "metadata": {},
     "output_type": "execute_result"
    }
   ],
   "source": [
    "#indexing out of sequences\n",
    "Emp_Details.iloc[[0,2], :]"
   ]
  },
  {
   "cell_type": "code",
   "execution_count": 10,
   "id": "1e550626",
   "metadata": {},
   "outputs": [],
   "source": [
    "#Indexing Data Frames with customized indexes with loc syntax"
   ]
  },
  {
   "cell_type": "code",
   "execution_count": 11,
   "id": "794ae6b0",
   "metadata": {},
   "outputs": [
    {
     "data": {
      "text/html": [
       "<div>\n",
       "<style scoped>\n",
       "    .dataframe tbody tr th:only-of-type {\n",
       "        vertical-align: middle;\n",
       "    }\n",
       "\n",
       "    .dataframe tbody tr th {\n",
       "        vertical-align: top;\n",
       "    }\n",
       "\n",
       "    .dataframe thead th {\n",
       "        text-align: right;\n",
       "    }\n",
       "</style>\n",
       "<table border=\"1\" class=\"dataframe\">\n",
       "  <thead>\n",
       "    <tr style=\"text-align: right;\">\n",
       "      <th></th>\n",
       "      <th>Name_Emp</th>\n",
       "      <th>Age</th>\n",
       "      <th>GT_5_yrs</th>\n",
       "    </tr>\n",
       "  </thead>\n",
       "  <tbody>\n",
       "    <tr>\n",
       "      <th>Andy</th>\n",
       "      <td>Andy Simpson</td>\n",
       "      <td>34</td>\n",
       "      <td>True</td>\n",
       "    </tr>\n",
       "    <tr>\n",
       "      <th>John</th>\n",
       "      <td>John Anderson</td>\n",
       "      <td>45</td>\n",
       "      <td>False</td>\n",
       "    </tr>\n",
       "    <tr>\n",
       "      <th>Liza</th>\n",
       "      <td>Liza Brooke</td>\n",
       "      <td>23</td>\n",
       "      <td>False</td>\n",
       "    </tr>\n",
       "  </tbody>\n",
       "</table>\n",
       "</div>"
      ],
      "text/plain": [
       "           Name_Emp  Age  GT_5_yrs\n",
       "Andy   Andy Simpson   34      True\n",
       "John  John Anderson   45     False\n",
       "Liza    Liza Brooke   23     False"
      ]
     },
     "execution_count": 11,
     "metadata": {},
     "output_type": "execute_result"
    }
   ],
   "source": [
    "Emp_Details = pd.DataFrame({'Name_Emp':['Andy Simpson', 'John Anderson', 'Liza Brooke'], 'Age':[34,45, 23],\n",
    "                            'GT_5_yrs':[True, False, False]}, index = ['Andy', 'John', 'Liza'])\n",
    "Emp_Details"
   ]
  },
  {
   "cell_type": "code",
   "execution_count": 12,
   "id": "c5070c2e",
   "metadata": {},
   "outputs": [
    {
     "data": {
      "text/plain": [
       "Name_Emp    Andy Simpson\n",
       "Age                   34\n",
       "GT_5_yrs            True\n",
       "Name: Andy, dtype: object"
      ]
     },
     "execution_count": 12,
     "metadata": {},
     "output_type": "execute_result"
    }
   ],
   "source": [
    "Emp_Details.loc['Andy',:]"
   ]
  },
  {
   "cell_type": "code",
   "execution_count": 13,
   "id": "8a37f41e",
   "metadata": {},
   "outputs": [
    {
     "data": {
      "text/plain": [
       "Name_Emp    Andy Simpson\n",
       "Age                   34\n",
       "GT_5_yrs            True\n",
       "Name: Andy, dtype: object"
      ]
     },
     "execution_count": 13,
     "metadata": {},
     "output_type": "execute_result"
    }
   ],
   "source": [
    "#or\n",
    "Emp_Details.loc['Andy']"
   ]
  },
  {
   "cell_type": "code",
   "execution_count": 14,
   "id": "43b03c8b",
   "metadata": {},
   "outputs": [
    {
     "data": {
      "text/html": [
       "<div>\n",
       "<style scoped>\n",
       "    .dataframe tbody tr th:only-of-type {\n",
       "        vertical-align: middle;\n",
       "    }\n",
       "\n",
       "    .dataframe tbody tr th {\n",
       "        vertical-align: top;\n",
       "    }\n",
       "\n",
       "    .dataframe thead th {\n",
       "        text-align: right;\n",
       "    }\n",
       "</style>\n",
       "<table border=\"1\" class=\"dataframe\">\n",
       "  <thead>\n",
       "    <tr style=\"text-align: right;\">\n",
       "      <th></th>\n",
       "      <th>Name_Emp</th>\n",
       "      <th>Age</th>\n",
       "      <th>GT_5_yrs</th>\n",
       "    </tr>\n",
       "  </thead>\n",
       "  <tbody>\n",
       "    <tr>\n",
       "      <th>Andy</th>\n",
       "      <td>Andy Simpson</td>\n",
       "      <td>34</td>\n",
       "      <td>True</td>\n",
       "    </tr>\n",
       "    <tr>\n",
       "      <th>Liza</th>\n",
       "      <td>Liza Brooke</td>\n",
       "      <td>23</td>\n",
       "      <td>False</td>\n",
       "    </tr>\n",
       "  </tbody>\n",
       "</table>\n",
       "</div>"
      ],
      "text/plain": [
       "          Name_Emp  Age  GT_5_yrs\n",
       "Andy  Andy Simpson   34      True\n",
       "Liza   Liza Brooke   23     False"
      ]
     },
     "execution_count": 14,
     "metadata": {},
     "output_type": "execute_result"
    }
   ],
   "source": [
    "#two rows together\n",
    "Emp_Details.loc[['Andy', 'Liza'], :]"
   ]
  },
  {
   "cell_type": "code",
   "execution_count": 15,
   "id": "35a6fe1a",
   "metadata": {},
   "outputs": [
    {
     "data": {
      "text/html": [
       "<div>\n",
       "<style scoped>\n",
       "    .dataframe tbody tr th:only-of-type {\n",
       "        vertical-align: middle;\n",
       "    }\n",
       "\n",
       "    .dataframe tbody tr th {\n",
       "        vertical-align: top;\n",
       "    }\n",
       "\n",
       "    .dataframe thead th {\n",
       "        text-align: right;\n",
       "    }\n",
       "</style>\n",
       "<table border=\"1\" class=\"dataframe\">\n",
       "  <thead>\n",
       "    <tr style=\"text-align: right;\">\n",
       "      <th></th>\n",
       "      <th>Age</th>\n",
       "      <th>Name_Emp</th>\n",
       "    </tr>\n",
       "  </thead>\n",
       "  <tbody>\n",
       "    <tr>\n",
       "      <th>Andy</th>\n",
       "      <td>34</td>\n",
       "      <td>Andy Simpson</td>\n",
       "    </tr>\n",
       "    <tr>\n",
       "      <th>John</th>\n",
       "      <td>45</td>\n",
       "      <td>John Anderson</td>\n",
       "    </tr>\n",
       "    <tr>\n",
       "      <th>Liza</th>\n",
       "      <td>23</td>\n",
       "      <td>Liza Brooke</td>\n",
       "    </tr>\n",
       "  </tbody>\n",
       "</table>\n",
       "</div>"
      ],
      "text/plain": [
       "      Age       Name_Emp\n",
       "Andy   34   Andy Simpson\n",
       "John   45  John Anderson\n",
       "Liza   23    Liza Brooke"
      ]
     },
     "execution_count": 15,
     "metadata": {},
     "output_type": "execute_result"
    }
   ],
   "source": [
    "#columns and row index name\n",
    "Emp_Details.loc['Andy':'Liza', ['Age', 'Name_Emp']]"
   ]
  }
 ],
 "metadata": {
  "kernelspec": {
   "display_name": "Python 3 (ipykernel)",
   "language": "python",
   "name": "python3"
  },
  "language_info": {
   "codemirror_mode": {
    "name": "ipython",
    "version": 3
   },
   "file_extension": ".py",
   "mimetype": "text/x-python",
   "name": "python",
   "nbconvert_exporter": "python",
   "pygments_lexer": "ipython3",
   "version": "3.9.12"
  }
 },
 "nbformat": 4,
 "nbformat_minor": 5
}
