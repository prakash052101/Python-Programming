{
 "cells": [
  {
   "cell_type": "code",
   "execution_count": 1,
   "id": "0b261a53",
   "metadata": {},
   "outputs": [
    {
     "name": "stdout",
     "output_type": "stream",
     "text": [
      "John\n",
      "Lisa\n",
      "['John', 'Andy', 'Lisa']\n"
     ]
    }
   ],
   "source": [
    "L1 = [\"John\", \"Andy\", \"Lisa\", \"John\"]\n",
    "print(L1[0])\n",
    "print(L1[2])\n",
    "print(L1[0:3])"
   ]
  },
  {
   "cell_type": "code",
   "execution_count": 2,
   "id": "0458c84e",
   "metadata": {},
   "outputs": [
    {
     "data": {
      "text/plain": [
       "['John', 'Anderson', 'Lisa', 'John']"
      ]
     },
     "execution_count": 2,
     "metadata": {},
     "output_type": "execute_result"
    }
   ],
   "source": [
    "# Replacing value with indexing\n",
    "L1[1] = 'Anderson'\n",
    "L1"
   ]
  },
  {
   "cell_type": "code",
   "execution_count": 3,
   "id": "c166a24b",
   "metadata": {},
   "outputs": [
    {
     "data": {
      "text/plain": [
       "('Python', 'Java', 'R Programming')"
      ]
     },
     "execution_count": 3,
     "metadata": {},
     "output_type": "execute_result"
    }
   ],
   "source": [
    "List = [(54, 21, 35), (\"Python\", \"Java\", 'R Programming')]\n",
    "List[1]"
   ]
  },
  {
   "cell_type": "code",
   "execution_count": 4,
   "id": "723b9696",
   "metadata": {},
   "outputs": [
    {
     "data": {
      "text/plain": [
       "'Java'"
      ]
     },
     "execution_count": 4,
     "metadata": {},
     "output_type": "execute_result"
    }
   ],
   "source": [
    "List[1][1]"
   ]
  },
  {
   "cell_type": "code",
   "execution_count": 6,
   "id": "cb2d4099",
   "metadata": {},
   "outputs": [
    {
     "data": {
      "text/plain": [
       "'R Programming'"
      ]
     },
     "execution_count": 6,
     "metadata": {},
     "output_type": "execute_result"
    }
   ],
   "source": [
    "List[1][2]"
   ]
  },
  {
   "cell_type": "code",
   "execution_count": 7,
   "id": "6290e485",
   "metadata": {},
   "outputs": [
    {
     "data": {
      "text/plain": [
       "('Python', 'Java')"
      ]
     },
     "execution_count": 7,
     "metadata": {},
     "output_type": "execute_result"
    }
   ],
   "source": [
    "List[1][0:2]"
   ]
  },
  {
   "cell_type": "code",
   "execution_count": 8,
   "id": "f0b12c55",
   "metadata": {},
   "outputs": [
    {
     "data": {
      "text/plain": [
       "'Java'"
      ]
     },
     "execution_count": 8,
     "metadata": {},
     "output_type": "execute_result"
    }
   ],
   "source": [
    "List_inside_tuple = ([54, 21, 35], [\"Python\", \"Java\", 'R Programming'])\n",
    "List[1][1]"
   ]
  },
  {
   "cell_type": "code",
   "execution_count": 9,
   "id": "adcebb7f",
   "metadata": {},
   "outputs": [
    {
     "data": {
      "text/plain": [
       "21"
      ]
     },
     "execution_count": 9,
     "metadata": {},
     "output_type": "execute_result"
    }
   ],
   "source": [
    "List[0][1]"
   ]
  },
  {
   "cell_type": "code",
   "execution_count": 11,
   "id": "16b9c8a9",
   "metadata": {},
   "outputs": [
    {
     "data": {
      "text/plain": [
       "[('Python', 'Java', 'R Programming')]"
      ]
     },
     "execution_count": 11,
     "metadata": {},
     "output_type": "execute_result"
    }
   ],
   "source": [
    "List[0:2][1:2]"
   ]
  }
 ],
 "metadata": {
  "kernelspec": {
   "display_name": "Python 3 (ipykernel)",
   "language": "python",
   "name": "python3"
  },
  "language_info": {
   "codemirror_mode": {
    "name": "ipython",
    "version": 3
   },
   "file_extension": ".py",
   "mimetype": "text/x-python",
   "name": "python",
   "nbconvert_exporter": "python",
   "pygments_lexer": "ipython3",
   "version": "3.9.12"
  }
 },
 "nbformat": 4,
 "nbformat_minor": 5
}
