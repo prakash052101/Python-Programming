{
 "cells": [
  {
   "cell_type": "code",
   "execution_count": 1,
   "id": "91e2657c",
   "metadata": {},
   "outputs": [
    {
     "data": {
      "text/plain": [
       "('Steven', 29, 'Yes', True)"
      ]
     },
     "execution_count": 1,
     "metadata": {},
     "output_type": "execute_result"
    }
   ],
   "source": [
    "######## Multiple data types\n",
    "# creating tuple - tuples are immutable - faster and efficient\n",
    "tupp = \"Steven\", 29, 'Yes', True\n",
    "tupp"
   ]
  },
  {
   "cell_type": "code",
   "execution_count": 2,
   "id": "bee500e1",
   "metadata": {},
   "outputs": [
    {
     "data": {
      "text/plain": [
       "('Steven', 29, 'Yes', True)"
      ]
     },
     "execution_count": 2,
     "metadata": {},
     "output_type": "execute_result"
    }
   ],
   "source": [
    "tupp = (\"Steven\", 29, 'Yes', True)\n",
    "tupp"
   ]
  },
  {
   "cell_type": "code",
   "execution_count": 3,
   "id": "a47dd08f",
   "metadata": {},
   "outputs": [
    {
     "data": {
      "text/plain": [
       "tuple"
      ]
     },
     "execution_count": 3,
     "metadata": {},
     "output_type": "execute_result"
    }
   ],
   "source": [
    "type(tupp)"
   ]
  },
  {
   "cell_type": "code",
   "execution_count": 4,
   "id": "dbabc0ad",
   "metadata": {},
   "outputs": [
    {
     "data": {
      "text/plain": [
       "4"
      ]
     },
     "execution_count": 4,
     "metadata": {},
     "output_type": "execute_result"
    }
   ],
   "source": [
    "len(tupp)"
   ]
  },
  {
   "cell_type": "code",
   "execution_count": 6,
   "id": "8fd784c5",
   "metadata": {},
   "outputs": [
    {
     "data": {
      "text/plain": [
       "['Mark', 32, 19.6, False]"
      ]
     },
     "execution_count": 6,
     "metadata": {},
     "output_type": "execute_result"
    }
   ],
   "source": [
    "## List object - lists are mutable - slower and less efficient\n",
    "First_list = ['Mark', 32, 19.6, False]\n",
    "First_list"
   ]
  },
  {
   "cell_type": "code",
   "execution_count": 7,
   "id": "4c694c98",
   "metadata": {},
   "outputs": [],
   "source": [
    "First_list[1] = 35"
   ]
  },
  {
   "cell_type": "code",
   "execution_count": 8,
   "id": "d9971393",
   "metadata": {},
   "outputs": [
    {
     "data": {
      "text/plain": [
       "['Mark', 35, 19.6, False]"
      ]
     },
     "execution_count": 8,
     "metadata": {},
     "output_type": "execute_result"
    }
   ],
   "source": [
    "First_list"
   ]
  },
  {
   "cell_type": "code",
   "execution_count": 9,
   "id": "1601979a",
   "metadata": {},
   "outputs": [
    {
     "data": {
      "text/plain": [
       "('Steven', 29, 'Yes', True)"
      ]
     },
     "execution_count": 9,
     "metadata": {},
     "output_type": "execute_result"
    }
   ],
   "source": [
    "tupp"
   ]
  },
  {
   "cell_type": "code",
   "execution_count": 10,
   "id": "c6652ea0",
   "metadata": {},
   "outputs": [
    {
     "ename": "TypeError",
     "evalue": "'tuple' object does not support item assignment",
     "output_type": "error",
     "traceback": [
      "\u001b[1;31m---------------------------------------------------------------------------\u001b[0m",
      "\u001b[1;31mTypeError\u001b[0m                                 Traceback (most recent call last)",
      "Input \u001b[1;32mIn [10]\u001b[0m, in \u001b[0;36m<cell line: 1>\u001b[1;34m()\u001b[0m\n\u001b[1;32m----> 1\u001b[0m tupp[\u001b[38;5;241m1\u001b[39m] \u001b[38;5;241m=\u001b[39m \u001b[38;5;241m30\u001b[39m\n",
      "\u001b[1;31mTypeError\u001b[0m: 'tuple' object does not support item assignment"
     ]
    }
   ],
   "source": [
    "tupp[1] = 30"
   ]
  },
  {
   "cell_type": "code",
   "execution_count": 12,
   "id": "2be66b11",
   "metadata": {},
   "outputs": [
    {
     "data": {
      "text/plain": [
       "'Steven'"
      ]
     },
     "execution_count": 12,
     "metadata": {},
     "output_type": "execute_result"
    }
   ],
   "source": [
    "tupp[0]"
   ]
  },
  {
   "cell_type": "code",
   "execution_count": 13,
   "id": "987f3249",
   "metadata": {},
   "outputs": [
    {
     "data": {
      "text/plain": [
       "('Steven', 29, 'Yes', True)"
      ]
     },
     "execution_count": 13,
     "metadata": {},
     "output_type": "execute_result"
    }
   ],
   "source": [
    "# tupp[start:end]\n",
    "tupp[0:4]"
   ]
  },
  {
   "cell_type": "code",
   "execution_count": 14,
   "id": "ca8f52c9",
   "metadata": {},
   "outputs": [
    {
     "data": {
      "text/plain": [
       "('Steven', 29, 'Yes')"
      ]
     },
     "execution_count": 14,
     "metadata": {},
     "output_type": "execute_result"
    }
   ],
   "source": [
    "tupp[0:3]"
   ]
  },
  {
   "cell_type": "code",
   "execution_count": 15,
   "id": "18062799",
   "metadata": {},
   "outputs": [
    {
     "data": {
      "text/plain": [
       "(29, 'Yes')"
      ]
     },
     "execution_count": 15,
     "metadata": {},
     "output_type": "execute_result"
    }
   ],
   "source": [
    "tupp[1:3]"
   ]
  },
  {
   "cell_type": "code",
   "execution_count": 16,
   "id": "0f9c7f80",
   "metadata": {},
   "outputs": [
    {
     "data": {
      "text/plain": [
       "('Yes', True)"
      ]
     },
     "execution_count": 16,
     "metadata": {},
     "output_type": "execute_result"
    }
   ],
   "source": [
    "tupp[2:]"
   ]
  },
  {
   "cell_type": "code",
   "execution_count": 17,
   "id": "89c5b8c4",
   "metadata": {},
   "outputs": [
    {
     "data": {
      "text/plain": [
       "('Steven', 29, 'Yes')"
      ]
     },
     "execution_count": 17,
     "metadata": {},
     "output_type": "execute_result"
    }
   ],
   "source": [
    "tupp[:3]"
   ]
  },
  {
   "cell_type": "code",
   "execution_count": 18,
   "id": "fced3010",
   "metadata": {},
   "outputs": [
    {
     "data": {
      "text/plain": [
       "('Steven', 29, 'Yes', True)"
      ]
     },
     "execution_count": 18,
     "metadata": {},
     "output_type": "execute_result"
    }
   ],
   "source": [
    "tupp[-4:]"
   ]
  },
  {
   "cell_type": "code",
   "execution_count": 19,
   "id": "e14a22a8",
   "metadata": {},
   "outputs": [
    {
     "data": {
      "text/plain": [
       "('Yes', True)"
      ]
     },
     "execution_count": 19,
     "metadata": {},
     "output_type": "execute_result"
    }
   ],
   "source": [
    "tupp[-2:]"
   ]
  },
  {
   "cell_type": "code",
   "execution_count": 20,
   "id": "51fe0944",
   "metadata": {},
   "outputs": [
    {
     "data": {
      "text/plain": [
       "True"
      ]
     },
     "execution_count": 20,
     "metadata": {},
     "output_type": "execute_result"
    }
   ],
   "source": [
    "tupp[-1]"
   ]
  },
  {
   "cell_type": "code",
   "execution_count": 21,
   "id": "50a91236",
   "metadata": {},
   "outputs": [
    {
     "data": {
      "text/plain": [
       "('Steven',)"
      ]
     },
     "execution_count": 21,
     "metadata": {},
     "output_type": "execute_result"
    }
   ],
   "source": [
    "tupp[-4:-3]"
   ]
  },
  {
   "cell_type": "code",
   "execution_count": 22,
   "id": "1606076c",
   "metadata": {},
   "outputs": [
    {
     "data": {
      "text/plain": [
       "(29,)"
      ]
     },
     "execution_count": 22,
     "metadata": {},
     "output_type": "execute_result"
    }
   ],
   "source": [
    "tupp[-3:-2]"
   ]
  },
  {
   "cell_type": "code",
   "execution_count": 23,
   "id": "06d34fe6",
   "metadata": {},
   "outputs": [
    {
     "data": {
      "text/plain": [
       "('Steven', 29)"
      ]
     },
     "execution_count": 23,
     "metadata": {},
     "output_type": "execute_result"
    }
   ],
   "source": [
    "tupp[-4:-2]"
   ]
  }
 ],
 "metadata": {
  "kernelspec": {
   "display_name": "Python 3 (ipykernel)",
   "language": "python",
   "name": "python3"
  },
  "language_info": {
   "codemirror_mode": {
    "name": "ipython",
    "version": 3
   },
   "file_extension": ".py",
   "mimetype": "text/x-python",
   "name": "python",
   "nbconvert_exporter": "python",
   "pygments_lexer": "ipython3",
   "version": "3.9.12"
  }
 },
 "nbformat": 4,
 "nbformat_minor": 5
}
