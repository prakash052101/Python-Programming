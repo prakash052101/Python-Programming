{
 "cells": [
  {
   "cell_type": "code",
   "execution_count": 1,
   "id": "3bff161b",
   "metadata": {},
   "outputs": [],
   "source": [
    "def check_age(Age):\n",
    "    if Age < 18:\n",
    "        print('Minor')\n",
    "    else:\n",
    "        print('Adult')"
   ]
  },
  {
   "cell_type": "code",
   "execution_count": 2,
   "id": "830e1dfb",
   "metadata": {},
   "outputs": [
    {
     "name": "stdout",
     "output_type": "stream",
     "text": [
      "Adult\n"
     ]
    }
   ],
   "source": [
    "check_age(56)"
   ]
  },
  {
   "cell_type": "code",
   "execution_count": 3,
   "id": "8d591cf7",
   "metadata": {},
   "outputs": [
    {
     "name": "stdout",
     "output_type": "stream",
     "text": [
      "Minor\n"
     ]
    }
   ],
   "source": [
    "check_age(16)"
   ]
  },
  {
   "cell_type": "code",
   "execution_count": 4,
   "id": "8256729c",
   "metadata": {},
   "outputs": [],
   "source": [
    "# creating a function with a default value for parameterized object"
   ]
  },
  {
   "cell_type": "code",
   "execution_count": 5,
   "id": "f4c88b12",
   "metadata": {},
   "outputs": [],
   "source": [
    "def check_age(Age = 30):\n",
    "    if Age < 18:\n",
    "        print('Minor')\n",
    "    else:\n",
    "        print('Adult')"
   ]
  },
  {
   "cell_type": "code",
   "execution_count": 6,
   "id": "0b7da946",
   "metadata": {},
   "outputs": [
    {
     "name": "stdout",
     "output_type": "stream",
     "text": [
      "Minor\n"
     ]
    }
   ],
   "source": [
    "check_age(7)"
   ]
  },
  {
   "cell_type": "code",
   "execution_count": 7,
   "id": "aa084dff",
   "metadata": {},
   "outputs": [
    {
     "name": "stdout",
     "output_type": "stream",
     "text": [
      "Adult\n"
     ]
    }
   ],
   "source": [
    "check_age()"
   ]
  },
  {
   "cell_type": "code",
   "execution_count": 8,
   "id": "cb031eb2",
   "metadata": {},
   "outputs": [
    {
     "name": "stdout",
     "output_type": "stream",
     "text": [
      "Minor\n"
     ]
    }
   ],
   "source": [
    "check_age(11)"
   ]
  }
 ],
 "metadata": {
  "kernelspec": {
   "display_name": "Python 3 (ipykernel)",
   "language": "python",
   "name": "python3"
  },
  "language_info": {
   "codemirror_mode": {
    "name": "ipython",
    "version": 3
   },
   "file_extension": ".py",
   "mimetype": "text/x-python",
   "name": "python",
   "nbconvert_exporter": "python",
   "pygments_lexer": "ipython3",
   "version": "3.9.12"
  }
 },
 "nbformat": 4,
 "nbformat_minor": 5
}
