{
 "cells": [
  {
   "cell_type": "code",
   "execution_count": 1,
   "id": "8bc384ec",
   "metadata": {},
   "outputs": [
    {
     "data": {
      "text/plain": [
       "{'Kit Kat', 'Maggie', 'Milk Maid', 'Milo'}"
      ]
     },
     "execution_count": 1,
     "metadata": {},
     "output_type": "execute_result"
    }
   ],
   "source": [
    "# set is unordered collection of unique elements\n",
    "Grocery_Products = {'Milo', 'Milo', 'Maggie', 'Kit Kat', 'Milk Maid', 'Milk Maid'}\n",
    "Grocery_Products"
   ]
  },
  {
   "cell_type": "code",
   "execution_count": 2,
   "id": "33c464ad",
   "metadata": {},
   "outputs": [
    {
     "data": {
      "text/plain": [
       "{'Kit Kat', 'Maggie', 'Milk Maid', 'Milo'}"
      ]
     },
     "execution_count": 2,
     "metadata": {},
     "output_type": "execute_result"
    }
   ],
   "source": [
    "Grocery_Products = set(['Milo', 'Milo', 'Maggie', 'Kit Kat', 'Milk Maid', 'Milk Maid'])\n",
    "Grocery_Products"
   ]
  },
  {
   "cell_type": "code",
   "execution_count": 3,
   "id": "9675d8f3",
   "metadata": {},
   "outputs": [
    {
     "data": {
      "text/plain": [
       "set"
      ]
     },
     "execution_count": 3,
     "metadata": {},
     "output_type": "execute_result"
    }
   ],
   "source": [
    "type(Grocery_Products)"
   ]
  },
  {
   "cell_type": "code",
   "execution_count": 4,
   "id": "0462b018",
   "metadata": {},
   "outputs": [
    {
     "data": {
      "text/plain": [
       "{'Steve': 'StWhite@abc.com', 'kim': 'kim_anderson@org.com', 'ids': [101, 102]}"
      ]
     },
     "execution_count": 4,
     "metadata": {},
     "output_type": "execute_result"
    }
   ],
   "source": [
    "# Creating Dictionary- one key can have multiple values assigned\n",
    "first_dict = {'Steve':\"StWhite@abc.com\", 'kim':\"kim_anderson@org.com\", 'ids':[101, 102]}\n",
    "first_dict"
   ]
  },
  {
   "cell_type": "code",
   "execution_count": 5,
   "id": "35f8844d",
   "metadata": {},
   "outputs": [
    {
     "data": {
      "text/plain": [
       "dict"
      ]
     },
     "execution_count": 5,
     "metadata": {},
     "output_type": "execute_result"
    }
   ],
   "source": [
    "type(first_dict)"
   ]
  }
 ],
 "metadata": {
  "kernelspec": {
   "display_name": "Python 3 (ipykernel)",
   "language": "python",
   "name": "python3"
  },
  "language_info": {
   "codemirror_mode": {
    "name": "ipython",
    "version": 3
   },
   "file_extension": ".py",
   "mimetype": "text/x-python",
   "name": "python",
   "nbconvert_exporter": "python",
   "pygments_lexer": "ipython3",
   "version": "3.9.12"
  }
 },
 "nbformat": 4,
 "nbformat_minor": 5
}
