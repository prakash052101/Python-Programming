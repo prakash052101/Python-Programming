{
 "cells": [
  {
   "cell_type": "code",
   "execution_count": 1,
   "id": "8d687345",
   "metadata": {},
   "outputs": [],
   "source": [
    "cust_income = 2300\n",
    "credit_cards = 2"
   ]
  },
  {
   "cell_type": "code",
   "execution_count": 2,
   "id": "7208172d",
   "metadata": {},
   "outputs": [
    {
     "data": {
      "text/plain": [
       "True"
      ]
     },
     "execution_count": 2,
     "metadata": {},
     "output_type": "execute_result"
    }
   ],
   "source": [
    "Qualify_for_credit_card = ((cust_income > 2000) & (credit_cards > 1))\n",
    "Qualify_for_credit_card"
   ]
  },
  {
   "cell_type": "code",
   "execution_count": 4,
   "id": "c3bd9128",
   "metadata": {},
   "outputs": [
    {
     "data": {
      "text/plain": [
       "False"
      ]
     },
     "execution_count": 4,
     "metadata": {},
     "output_type": "execute_result"
    }
   ],
   "source": [
    "Credit_score = 'Fair'\n",
    "Qualify_for_credit_card = ((cust_income > 2000) & (credit_cards > 1) & (Credit_score == 'Good'))\n",
    "Qualify_for_credit_card"
   ]
  },
  {
   "cell_type": "code",
   "execution_count": 5,
   "id": "1f8cd164",
   "metadata": {},
   "outputs": [
    {
     "data": {
      "text/plain": [
       "True"
      ]
     },
     "execution_count": 5,
     "metadata": {},
     "output_type": "execute_result"
    }
   ],
   "source": [
    "Credit_score = 'Good'\n",
    "Qualify_for_credit_card = ((cust_income > 2000) & (credit_cards > 1) & (Credit_score == 'Good'))\n",
    "Qualify_for_credit_card"
   ]
  },
  {
   "cell_type": "code",
   "execution_count": 7,
   "id": "6462be96",
   "metadata": {},
   "outputs": [
    {
     "data": {
      "text/plain": [
       "True"
      ]
     },
     "execution_count": 7,
     "metadata": {},
     "output_type": "execute_result"
    }
   ],
   "source": [
    "cust_income = 1500\n",
    "credit_cards = 0\n",
    "Credit_score = 'Good'\n",
    "Qualify_for_credit_card = ((cust_income > 2000) | (credit_cards > 1) | (Credit_score == 'Good'))\n",
    "Qualify_for_credit_card"
   ]
  }
 ],
 "metadata": {
  "kernelspec": {
   "display_name": "Python 3 (ipykernel)",
   "language": "python",
   "name": "python3"
  },
  "language_info": {
   "codemirror_mode": {
    "name": "ipython",
    "version": 3
   },
   "file_extension": ".py",
   "mimetype": "text/x-python",
   "name": "python",
   "nbconvert_exporter": "python",
   "pygments_lexer": "ipython3",
   "version": "3.9.12"
  }
 },
 "nbformat": 4,
 "nbformat_minor": 5
}
