{
 "cells": [
  {
   "cell_type": "code",
   "execution_count": 1,
   "id": "3bff161b",
   "metadata": {},
   "outputs": [],
   "source": [
    "# Pandas Data Frames with default index values"
   ]
  },
  {
   "cell_type": "code",
   "execution_count": 2,
   "id": "5f12406a",
   "metadata": {},
   "outputs": [
    {
     "name": "stdout",
     "output_type": "stream",
     "text": [
      "       Name_Emp  Age\n",
      "0  Andy Simpson   34\n"
     ]
    }
   ],
   "source": [
    "import pandas as pd\n",
    "Emp_Details = pd.DataFrame({'Name_Emp':['Andy Simpson'], 'Age':[34]})\n",
    "print(Emp_Details)"
   ]
  },
  {
   "cell_type": "code",
   "execution_count": 3,
   "id": "422cc3a4",
   "metadata": {},
   "outputs": [
    {
     "name": "stdout",
     "output_type": "stream",
     "text": [
      "        Name_Emp  Age  GT_5_yrs\n",
      "0   Andy Simpson   34      True\n",
      "1  John Anderson   45     False\n",
      "2    Liza Brooke   23     False\n"
     ]
    }
   ],
   "source": [
    "Emp_Details = pd.DataFrame({'Name_Emp':['Andy Simpson', 'John Anderson', 'Liza Brooke'], 'Age':[34,45, 23],\n",
    "                            'GT_5_yrs':[True, False, False]})\n",
    "print(Emp_Details)"
   ]
  },
  {
   "cell_type": "code",
   "execution_count": 4,
   "id": "45f26f0f",
   "metadata": {},
   "outputs": [],
   "source": [
    "#Pandas Data Frame with customized default indexes"
   ]
  },
  {
   "cell_type": "code",
   "execution_count": 5,
   "id": "3f59cb1e",
   "metadata": {},
   "outputs": [
    {
     "data": {
      "text/html": [
       "<div>\n",
       "<style scoped>\n",
       "    .dataframe tbody tr th:only-of-type {\n",
       "        vertical-align: middle;\n",
       "    }\n",
       "\n",
       "    .dataframe tbody tr th {\n",
       "        vertical-align: top;\n",
       "    }\n",
       "\n",
       "    .dataframe thead th {\n",
       "        text-align: right;\n",
       "    }\n",
       "</style>\n",
       "<table border=\"1\" class=\"dataframe\">\n",
       "  <thead>\n",
       "    <tr style=\"text-align: right;\">\n",
       "      <th></th>\n",
       "      <th>Name_Emp</th>\n",
       "      <th>Age</th>\n",
       "      <th>GT_5_yrs</th>\n",
       "    </tr>\n",
       "  </thead>\n",
       "  <tbody>\n",
       "    <tr>\n",
       "      <th>Andy</th>\n",
       "      <td>Andy Simpson</td>\n",
       "      <td>34</td>\n",
       "      <td>True</td>\n",
       "    </tr>\n",
       "    <tr>\n",
       "      <th>John</th>\n",
       "      <td>John Anderson</td>\n",
       "      <td>45</td>\n",
       "      <td>False</td>\n",
       "    </tr>\n",
       "    <tr>\n",
       "      <th>Liza</th>\n",
       "      <td>Liza Brooke</td>\n",
       "      <td>23</td>\n",
       "      <td>False</td>\n",
       "    </tr>\n",
       "  </tbody>\n",
       "</table>\n",
       "</div>"
      ],
      "text/plain": [
       "           Name_Emp  Age  GT_5_yrs\n",
       "Andy   Andy Simpson   34      True\n",
       "John  John Anderson   45     False\n",
       "Liza    Liza Brooke   23     False"
      ]
     },
     "execution_count": 5,
     "metadata": {},
     "output_type": "execute_result"
    }
   ],
   "source": [
    "Emp_Details = pd.DataFrame({'Name_Emp':['Andy Simpson', 'John Anderson', 'Liza Brooke'], 'Age':[34,45, 23],\n",
    "                            'GT_5_yrs':[True, False, False]}, index = ['Andy', 'John', 'Liza'])\n",
    "Emp_Details"
   ]
  }
 ],
 "metadata": {
  "kernelspec": {
   "display_name": "Python 3 (ipykernel)",
   "language": "python",
   "name": "python3"
  },
  "language_info": {
   "codemirror_mode": {
    "name": "ipython",
    "version": 3
   },
   "file_extension": ".py",
   "mimetype": "text/x-python",
   "name": "python",
   "nbconvert_exporter": "python",
   "pygments_lexer": "ipython3",
   "version": "3.9.12"
  }
 },
 "nbformat": 4,
 "nbformat_minor": 5
}
